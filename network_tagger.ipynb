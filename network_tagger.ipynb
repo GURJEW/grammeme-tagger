{
  "nbformat": 4,
  "nbformat_minor": 0,
  "metadata": {
    "colab": {
      "name": "network_grammeme_tagger.ipynb",
      "provenance": [],
      "collapsed_sections": [],
      "toc_visible": true
    },
    "kernelspec": {
      "name": "python3",
      "display_name": "Python 3"
    },
    "accelerator": "GPU"
  },
  "cells": [
    {
      "cell_type": "markdown",
      "metadata": {
        "id": "sKenIoCCghX1",
        "colab_type": "text"
      },
      "source": [
        "#Реализация нейронной сети\n",
        "@Василий Гурьев"
      ]
    },
    {
      "cell_type": "markdown",
      "metadata": {
        "id": "riR9iUYwMZLW",
        "colab_type": "text"
      },
      "source": [
        "#Imports"
      ]
    },
    {
      "cell_type": "code",
      "metadata": {
        "id": "o7F90S7iMUrv",
        "colab_type": "code",
        "colab": {}
      },
      "source": [
        "import numpy as np\n",
        "import pandas as pd\n",
        "from google.colab import drive\n",
        "import os\n",
        "import re\n",
        "import pickle\n",
        "from sklearn.metrics import classification_report, f1_score\n",
        "import tensorflow as tf\n",
        "import matplotlib.pyplot as plt\n",
        "import seaborn as sns\n",
        "from IPython.display import clear_output\n",
        "import warnings\n",
        "import time\n",
        "warnings.filterwarnings('ignore')\n",
        "\n",
        "%matplotlib inline"
      ],
      "execution_count": 0,
      "outputs": []
    },
    {
      "cell_type": "markdown",
      "metadata": {
        "id": "Np4-pwvZMigA",
        "colab_type": "text"
      },
      "source": [
        "#Defs"
      ]
    },
    {
      "cell_type": "markdown",
      "metadata": {
        "id": "I5K70dKNr41m",
        "colab_type": "text"
      },
      "source": [
        "##Layers"
      ]
    },
    {
      "cell_type": "markdown",
      "metadata": {
        "id": "NW60060Xn579",
        "colab_type": "text"
      },
      "source": [
        "###conv_block"
      ]
    },
    {
      "cell_type": "code",
      "metadata": {
        "id": "ko2n3DAVn3iE",
        "colab_type": "code",
        "colab": {}
      },
      "source": [
        "def conv_block(x, kernel_size, input_size, output_size, name): # свёрточный блок\n",
        "  kernel_shape = [kernel_size, input_size, output_size] # форма ядра свёртки\n",
        "\n",
        "  weights = tf.Variable(tf.truncated_normal(kernel_shape, stddev=0.03), name=f'{name}_w') # веса\n",
        "  bias = tf.Variable(tf.truncated_normal([output_size], stddev=0.01), name=f'{name}_b') # смещение\n",
        "\n",
        "  out = tf.nn.conv1d(x, weights, [1, 1, 1], padding='SAME', name=f'{name}_c') + bias # свёртка\n",
        "\n",
        "  # out = tf.nn.dropout(x=out, rate=DROPOUT, name=f'{name}_d') # дропаут\n",
        "  out = tf.nn.relu(out, name=f'{name}_activation') # активация\n",
        "  return tf.add(out, x, name=f'{name}_a') # skip connection"
      ],
      "execution_count": 0,
      "outputs": []
    },
    {
      "cell_type": "markdown",
      "metadata": {
        "id": "hxvhcbDYn_rW",
        "colab_type": "text"
      },
      "source": [
        "###dense_block"
      ]
    },
    {
      "cell_type": "code",
      "metadata": {
        "id": "gSpBuls8n8Kt",
        "colab_type": "code",
        "colab": {}
      },
      "source": [
        "def dense_block(x, input_size, output_size, name): # полносвязный слой\n",
        "  weights = tf.Variable(tf.truncated_normal([input_size, output_size], stddev=0.03), name=f'{name}_w') # веса\n",
        "  bias = tf.Variable(tf.truncated_normal([output_size], stddev=0.01), name=f'{name}_b') # смешения\n",
        "  return tf.add(tf.matmul(x, weights, name=f'{name}_m'), bias, name=f'{name}_a') # возвращаем слой"
      ],
      "execution_count": 0,
      "outputs": []
    },
    {
      "cell_type": "markdown",
      "metadata": {
        "colab_type": "text",
        "id": "6e6wqWu0TVTp"
      },
      "source": [
        "###build_graph"
      ]
    },
    {
      "cell_type": "code",
      "metadata": {
        "id": "SKuzBlvlQEHt",
        "colab_type": "code",
        "colab": {}
      },
      "source": [
        "def build_graph(tblock=3, sblock=3, tkernal=3, skernal=3): # строим граф\n",
        "  x = tf.placeholder(tf.int32, [None, SENT_LEN, TOKEN_LEN], name='x') # входной плейсхолдер\n",
        "  y = tf.placeholder(tf.float32, [None, SENT_LEN, TAG_DIM], name='y') # выходной плейсхолдер\n",
        "  x_shaped = tf.reshape(x, [-1, TOKEN_LEN], name='x_shaped') # переход на уровень токенов\n",
        "  embedding_table = tf.Variable(tf.random_uniform([CHAR_DIM, EMBED_DIM]), name='embedding_table') # задание начальных значений эмбеддинга\n",
        "  embedding = tf.nn.embedding_lookup(embedding_table, x_shaped, name='embedding') # эмбеддинг-слой\n",
        "  conv = embedding\n",
        "  for i in range(tblock): # добавляем заданное количество\n",
        "    conv = conv_block(conv, tkernal, EMBED_DIM, EMBED_DIM, name=f'TBLOCK_{i}') # свёрточных блоков\n",
        "  pooling = tf.nn.pool(conv, [TOKEN_LEN], 'MAX', 'SAME', strides=[TOKEN_LEN], name='pooling') # слой глобального макспулинга\n",
        "  pooling = tf.reshape(pooling, [-1, SENT_LEN, EMBED_DIM], name='reshape') # переход на уровень предложений\n",
        "  conv = pooling\n",
        "  for i in range(sblock): # добавляем заданное количество\n",
        "    conv = conv_block(conv, skernal, EMBED_DIM, EMBED_DIM, name=f'SBLOCK_{i}') # свёрточных блоков\n",
        "  y_ = tf.nn.sigmoid(dense_block(conv, EMBED_DIM, TAG_DIM, name='DENSE'), name='y_')\n",
        "  # добавляем полносвязный слой и функцию активации\n",
        "  return x, y, y_"
      ],
      "execution_count": 0,
      "outputs": []
    },
    {
      "cell_type": "markdown",
      "metadata": {
        "id": "2ikjgRvjpXny",
        "colab_type": "text"
      },
      "source": [
        "##Losses and metrics"
      ]
    },
    {
      "cell_type": "markdown",
      "metadata": {
        "id": "UFfl9Anmr_Kj",
        "colab_type": "text"
      },
      "source": [
        "###cross_entropy"
      ]
    },
    {
      "cell_type": "code",
      "metadata": {
        "id": "VBbjTnPEpcBj",
        "colab_type": "code",
        "colab": {}
      },
      "source": [
        "def cross_entropy(y_true, y_pred): # кросс-энтропия по оси 2\n",
        "  return -tf.reduce_mean(tf.reduce_sum(y_true * tf.log(y_pred) + (1 - y_true) * tf.log(1 - y_pred), axis=2))"
      ],
      "execution_count": 0,
      "outputs": []
    },
    {
      "cell_type": "markdown",
      "metadata": {
        "id": "CtgFaKSOZ9aA",
        "colab_type": "text"
      },
      "source": [
        "###accuracy"
      ]
    },
    {
      "cell_type": "code",
      "metadata": {
        "id": "5Rr1YEbJaBII",
        "colab_type": "code",
        "colab": {}
      },
      "source": [
        "def accuracy(y_true, y_pred): # точность\n",
        "  return tf.reduce_mean(tf.cast(tf.equal(y_true, tf.round(y_pred)), tf.float64))"
      ],
      "execution_count": 0,
      "outputs": []
    },
    {
      "cell_type": "markdown",
      "metadata": {
        "id": "lwPjGN5_kLSE",
        "colab_type": "text"
      },
      "source": [
        "###plot_acc"
      ]
    },
    {
      "cell_type": "code",
      "metadata": {
        "id": "J6ZuzPQYip6l",
        "colab_type": "code",
        "colab": {}
      },
      "source": [
        "def plot_acc(history): # печать графика точности\n",
        "  plt.figure(figsize=(18, 6))\n",
        "  plt.plot(history['train_acc'], label='train_acc')\n",
        "  plt.plot(history['val_acc'], label='val_acc')\n",
        "  plt.xlabel('epochs')\n",
        "  plt.ylabel('acc')\n",
        "  plt.legend()\n",
        "  plt.show()"
      ],
      "execution_count": 0,
      "outputs": []
    },
    {
      "cell_type": "markdown",
      "metadata": {
        "id": "nVigeRk_kMJa",
        "colab_type": "text"
      },
      "source": [
        "###plot_loss"
      ]
    },
    {
      "cell_type": "code",
      "metadata": {
        "id": "OkerUK12i9ZX",
        "colab_type": "code",
        "colab": {}
      },
      "source": [
        "def plot_loss(history): # печать графика потерь\n",
        "  plt.figure(figsize=(18, 6))\n",
        "  plt.plot(history['train_loss'], label='train_loss')\n",
        "  plt.plot(history['val_loss'], label='val_loss')\n",
        "  plt.xlabel('epochs')\n",
        "  plt.ylabel('loss')\n",
        "  plt.legend()\n",
        "  plt.show()"
      ],
      "execution_count": 0,
      "outputs": []
    },
    {
      "cell_type": "markdown",
      "metadata": {
        "id": "kUfxiyuNI2Vt",
        "colab_type": "text"
      },
      "source": [
        "##Text"
      ]
    },
    {
      "cell_type": "code",
      "metadata": {
        "id": "UrwsWLq6I8NL",
        "colab_type": "code",
        "colab": {}
      },
      "source": [
        "def text_to_sentences(text): # режем текст на предложения\n",
        "  return re.findall(r'[\"А-ЯЁA-Z].+?(?:[\"a-zа-яё]{2}|[\"A-ZА-ЯЁ]{2})(?:\\.+|\\!+|\\?+)', text.replace('\\n', ' '))\n",
        "\n",
        "\n",
        "def sentence_to_words(sentence): # режим предложения на на токены\n",
        "  return re.findall(r'[A-Za-zА-ЯЁа-яё0-9-]+', sentence.lower())"
      ],
      "execution_count": 0,
      "outputs": []
    },
    {
      "cell_type": "markdown",
      "metadata": {
        "id": "3YykyQ3CMkPJ",
        "colab_type": "text"
      },
      "source": [
        "#Loading"
      ]
    },
    {
      "cell_type": "code",
      "metadata": {
        "id": "yNBskzUgMrjA",
        "colab_type": "code",
        "outputId": "0a1da8ec-0e75-4fa3-8c61-f75523d929bd",
        "colab": {
          "base_uri": "https://localhost:8080/",
          "height": 122
        }
      },
      "source": [
        "drive.mount('/content/gdrive') # подключаем диск\n",
        "os.chdir('/content/gdrive/My Drive/Colab Notebooks/NNDW') # задаём рабочую директорию"
      ],
      "execution_count": 0,
      "outputs": [
        {
          "output_type": "stream",
          "text": [
            "Go to this URL in a browser: https://accounts.google.com/o/oauth2/auth?client_id=947318989803-6bn6qk8qdgf4n4g3pfee6491hc0brc4i.apps.googleusercontent.com&redirect_uri=urn%3aietf%3awg%3aoauth%3a2.0%3aoob&response_type=code&scope=email%20https%3a%2f%2fwww.googleapis.com%2fauth%2fdocs.test%20https%3a%2f%2fwww.googleapis.com%2fauth%2fdrive%20https%3a%2f%2fwww.googleapis.com%2fauth%2fdrive.photos.readonly%20https%3a%2f%2fwww.googleapis.com%2fauth%2fpeopleapi.readonly\n",
            "\n",
            "Enter your authorization code:\n",
            "··········\n",
            "Mounted at /content/gdrive\n"
          ],
          "name": "stdout"
        }
      ]
    },
    {
      "cell_type": "code",
      "metadata": {
        "id": "U5Uw01sAM_ux",
        "colab_type": "code",
        "colab": {}
      },
      "source": [
        "npz = np.load('data/dataset_2002.npz') # загрузка векторизованных входных и выходных данных\n",
        "inputs, labels = [npz[item] for item in npz]"
      ],
      "execution_count": 0,
      "outputs": []
    },
    {
      "cell_type": "code",
      "metadata": {
        "id": "_VXBHONsA7uN",
        "colab_type": "code",
        "colab": {}
      },
      "source": [
        "SENT_LEN = inputs.shape[1] # максимальная длина предложения (включая токены начала и конца)\n",
        "TOKEN_LEN = inputs.shape[2] # максимальная длина токена (включая пробелы начала и конца)\n",
        "CHAR_DIM = 33 # размер словаря\n",
        "TAG_DIM = labels.shape[2] # количество классов\n",
        "EMBED_DIM = 128 # размер векторного представления индексов букв"
      ],
      "execution_count": 0,
      "outputs": []
    },
    {
      "cell_type": "code",
      "metadata": {
        "id": "_JwzDMLGNW1Y",
        "colab_type": "code",
        "colab": {}
      },
      "source": [
        "n = int(len(inputs) * 0.8) # доля обучающей выборки\n",
        "train_inputs, test_inputs = np.split(inputs.astype('int32'), [n], axis=0) # входные тензоры\n",
        "train_labels, test_labels = np.split(labels.astype('float64'), [n], axis=0) # выходные тензоры"
      ],
      "execution_count": 0,
      "outputs": []
    },
    {
      "cell_type": "code",
      "metadata": {
        "id": "0o3LyTlOBH8R",
        "colab_type": "code",
        "colab": {}
      },
      "source": [
        "grammemes = pd.read_csv('dicts/grammemes.csv') # словарь граммем"
      ],
      "execution_count": 0,
      "outputs": []
    },
    {
      "cell_type": "code",
      "metadata": {
        "id": "au9W10rbHxLr",
        "colab_type": "code",
        "colab": {}
      },
      "source": [
        "with open('data/extra_test.txt', 'r') as f: # загружаем дополнительный датасет\n",
        "  text = f.read()"
      ],
      "execution_count": 0,
      "outputs": []
    },
    {
      "cell_type": "code",
      "metadata": {
        "id": "vTDbtW16IPtP",
        "colab_type": "code",
        "outputId": "82d72dfa-4e60-4a1f-d1af-9d58cfbc5863",
        "colab": {
          "base_uri": "https://localhost:8080/",
          "height": 34
        }
      },
      "source": [
        "text # предложения повышенной сложности для дополнительной проверки"
      ],
      "execution_count": 0,
      "outputs": [
        {
          "output_type": "execute_result",
          "data": {
            "text/plain": [
              "'Крылышкуя золотописьмом\\nТончайших жил,\\nКузнечик в кузов пуза уложил\\nПрибрежных много трав и вер.\\nСорок сорок глядели на гладь.\\nКосой косой косил косой.\\n'"
            ]
          },
          "metadata": {
            "tags": []
          },
          "execution_count": 26
        }
      ]
    },
    {
      "cell_type": "code",
      "metadata": {
        "id": "cbw5yhw4JRVE",
        "colab_type": "code",
        "outputId": "1eea4dd6-845e-4458-bc86-1218dca9834c",
        "colab": {
          "base_uri": "https://localhost:8080/",
          "height": 142
        }
      },
      "source": [
        "extra_data = pd.DataFrame({\n",
        "    'sentence': text_to_sentences(text)\n",
        "})\n",
        "extra_data"
      ],
      "execution_count": 0,
      "outputs": [
        {
          "output_type": "execute_result",
          "data": {
            "text/html": [
              "<div>\n",
              "<style scoped>\n",
              "    .dataframe tbody tr th:only-of-type {\n",
              "        vertical-align: middle;\n",
              "    }\n",
              "\n",
              "    .dataframe tbody tr th {\n",
              "        vertical-align: top;\n",
              "    }\n",
              "\n",
              "    .dataframe thead th {\n",
              "        text-align: right;\n",
              "    }\n",
              "</style>\n",
              "<table border=\"1\" class=\"dataframe\">\n",
              "  <thead>\n",
              "    <tr style=\"text-align: right;\">\n",
              "      <th></th>\n",
              "      <th>sentence</th>\n",
              "    </tr>\n",
              "  </thead>\n",
              "  <tbody>\n",
              "    <tr>\n",
              "      <th>0</th>\n",
              "      <td>Крылышкуя золотописьмом Тончайших жил, Кузнечи...</td>\n",
              "    </tr>\n",
              "    <tr>\n",
              "      <th>1</th>\n",
              "      <td>Сорок сорок глядели на гладь.</td>\n",
              "    </tr>\n",
              "    <tr>\n",
              "      <th>2</th>\n",
              "      <td>Косой косой косил косой.</td>\n",
              "    </tr>\n",
              "  </tbody>\n",
              "</table>\n",
              "</div>"
            ],
            "text/plain": [
              "                                            sentence\n",
              "0  Крылышкуя золотописьмом Тончайших жил, Кузнечи...\n",
              "1                      Сорок сорок глядели на гладь.\n",
              "2                           Косой косой косил косой."
            ]
          },
          "metadata": {
            "tags": []
          },
          "execution_count": 27
        }
      ]
    },
    {
      "cell_type": "code",
      "metadata": {
        "id": "URmOszm4J1no",
        "colab_type": "code",
        "outputId": "60cc72f4-bcf4-40d0-87d6-b3f59271d708",
        "colab": {
          "base_uri": "https://localhost:8080/",
          "height": 142
        }
      },
      "source": [
        "extra_data['words'] = extra_data.sentence.apply(sentence_to_words)\n",
        "extra_data"
      ],
      "execution_count": 0,
      "outputs": [
        {
          "output_type": "execute_result",
          "data": {
            "text/html": [
              "<div>\n",
              "<style scoped>\n",
              "    .dataframe tbody tr th:only-of-type {\n",
              "        vertical-align: middle;\n",
              "    }\n",
              "\n",
              "    .dataframe tbody tr th {\n",
              "        vertical-align: top;\n",
              "    }\n",
              "\n",
              "    .dataframe thead th {\n",
              "        text-align: right;\n",
              "    }\n",
              "</style>\n",
              "<table border=\"1\" class=\"dataframe\">\n",
              "  <thead>\n",
              "    <tr style=\"text-align: right;\">\n",
              "      <th></th>\n",
              "      <th>sentence</th>\n",
              "      <th>words</th>\n",
              "    </tr>\n",
              "  </thead>\n",
              "  <tbody>\n",
              "    <tr>\n",
              "      <th>0</th>\n",
              "      <td>Крылышкуя золотописьмом Тончайших жил, Кузнечи...</td>\n",
              "      <td>[крылышкуя, золотописьмом, тончайших, жил, куз...</td>\n",
              "    </tr>\n",
              "    <tr>\n",
              "      <th>1</th>\n",
              "      <td>Сорок сорок глядели на гладь.</td>\n",
              "      <td>[сорок, сорок, глядели, на, гладь]</td>\n",
              "    </tr>\n",
              "    <tr>\n",
              "      <th>2</th>\n",
              "      <td>Косой косой косил косой.</td>\n",
              "      <td>[косой, косой, косил, косой]</td>\n",
              "    </tr>\n",
              "  </tbody>\n",
              "</table>\n",
              "</div>"
            ],
            "text/plain": [
              "                                            sentence                                              words\n",
              "0  Крылышкуя золотописьмом Тончайших жил, Кузнечи...  [крылышкуя, золотописьмом, тончайших, жил, куз...\n",
              "1                      Сорок сорок глядели на гладь.                 [сорок, сорок, глядели, на, гладь]\n",
              "2                           Косой косой косил косой.                       [косой, косой, косил, косой]"
            ]
          },
          "metadata": {
            "tags": []
          },
          "execution_count": 28
        }
      ]
    },
    {
      "cell_type": "code",
      "metadata": {
        "id": "ID2gm7-iLQNq",
        "colab_type": "code",
        "colab": {}
      },
      "source": [
        "symbols = {chr(ord('а')+i): i + 1 for i in range(32)} # словарь символов\n",
        "symbols['ё'] = 33"
      ],
      "execution_count": 0,
      "outputs": []
    },
    {
      "cell_type": "code",
      "metadata": {
        "id": "F1f8K2yQLyC0",
        "colab_type": "code",
        "colab": {}
      },
      "source": [
        "# векторизация дополнительных входных данных \n",
        "extra_inputs = np.zeros((len(extra_data), SENT_LEN, TOKEN_LEN))\n",
        "for i, sentence in enumerate(extra_data.words):\n",
        "  for j, token in enumerate(sentence):\n",
        "    for k, char in enumerate(token):\n",
        "      extra_inputs[i, j+1, k+1] = symbols[char]"
      ],
      "execution_count": 0,
      "outputs": []
    },
    {
      "cell_type": "markdown",
      "metadata": {
        "id": "77lShyekBbks",
        "colab_type": "text"
      },
      "source": [
        "#Network"
      ]
    },
    {
      "cell_type": "code",
      "metadata": {
        "id": "-nIHjiYS5yr4",
        "colab_type": "code",
        "colab": {}
      },
      "source": [
        "global_step = tf.Variable(0, trainable=True, name='global_step') #\n",
        "starter_learning_rate = 0.006 # задаём начальный шаг обучения\n",
        "learning_rate = tf.train.exponential_decay(starter_learning_rate, global_step, 5000, 0.6, staircase=False)\n",
        "# задаём функцию постепенного уменьшения шага обучения\n",
        "\n",
        "EPOCHS = 60 # количество эпох\n",
        "BATCH_SIZE = 200 # размер пакета\n",
        "VAL_SPLIT = 0.2 # доля выборки для валидации\n",
        "TRAIN_SIZE = int((1 - VAL_SPLIT) * len(train_labels) / BATCH_SIZE) # количество экземпляров обучающей выборки\n",
        "VAL_SIZE = int(VAL_SPLIT * len(train_labels) / BATCH_SIZE) # количество экземпляров проверочной выборки\n",
        "TEST_SIZE = int(len(test_labels) / BATCH_SIZE) # количество экземпляров тестовой выборки"
      ],
      "execution_count": 0,
      "outputs": []
    },
    {
      "cell_type": "code",
      "metadata": {
        "id": "80jBK4fX3CMF",
        "colab_type": "code",
        "outputId": "976b416b-06cd-4caf-8981-8642317f16fc",
        "colab": {
          "base_uri": "https://localhost:8080/",
          "height": 88
        }
      },
      "source": [
        "# создание плейсхолдеров входа и выхода и итераторов обучающего и тестовых датасетов\n",
        "\n",
        "train_x = tf.placeholder(train_inputs.dtype, train_inputs.shape, name='train_x')\n",
        "train_y = tf.placeholder(train_labels.dtype, train_labels.shape, name='train_y')\n",
        "train_dataset = tf.data.Dataset.from_tensor_slices((train_x, train_y))\n",
        "train_dataset = train_dataset.shuffle(1000).batch(BATCH_SIZE)\n",
        "train_iterator = train_dataset.make_initializable_iterator()\n",
        "next_train = train_iterator.get_next()\n",
        "\n",
        "test_x = tf.placeholder(test_inputs.dtype, test_inputs.shape, name='text_x')\n",
        "test_dataset = tf.data.Dataset.from_tensor_slices(test_x)\n",
        "test_dataset = test_dataset.batch(1)\n",
        "test_iterator = test_dataset.make_initializable_iterator()\n",
        "next_test = test_iterator.get_next()\n",
        "\n",
        "extra_x = tf.placeholder(extra_inputs.dtype, extra_inputs.shape, name='extra_x')\n",
        "extra_dataset = tf.data.Dataset.from_tensor_slices(extra_x)\n",
        "extra_dataset = extra_dataset.batch(1)\n",
        "extra_iterator = extra_dataset.make_initializable_iterator()\n",
        "next_extra = extra_iterator.get_next()"
      ],
      "execution_count": 0,
      "outputs": [
        {
          "output_type": "stream",
          "text": [
            "WARNING:tensorflow:From <ipython-input-22-5c7e32073886>:5: DatasetV1.make_initializable_iterator (from tensorflow.python.data.ops.dataset_ops) is deprecated and will be removed in a future version.\n",
            "Instructions for updating:\n",
            "Use `for ... in dataset:` to iterate over a dataset. If using `tf.estimator`, return the `Dataset` object directly from your input function. As a last resort, you can use `tf.compat.v1.data.make_initializable_iterator(dataset)`.\n"
          ],
          "name": "stdout"
        }
      ]
    },
    {
      "cell_type": "markdown",
      "metadata": {
        "id": "85OK_3yEjr5I",
        "colab_type": "text"
      },
      "source": [
        "##Training"
      ]
    },
    {
      "cell_type": "code",
      "metadata": {
        "id": "A0ZJ--qvjxOp",
        "colab_type": "code",
        "outputId": "cbb29276-4dc5-4304-bddd-1ad0ca4217eb",
        "colab": {
          "base_uri": "https://localhost:8080/",
          "height": 139
        }
      },
      "source": [
        "x, y, y_ = build_graph(5, 5, 5, 3) # строим граф с заданным количеством блоков и размерами ядер свёрток\n",
        "\n",
        "y_clipped = tf.clip_by_value(y_, 1e-5, 1 - 1e-5) # подрезаем выходные данные\n",
        "loss = cross_entropy(y, y_clipped) # задаём функцию потерь\n",
        "acc = accuracy(y, y_) # задаём метрику (точность)\n",
        "\n",
        "optimiser = tf.train.RMSPropOptimizer(learning_rate=learning_rate).minimize(loss, global_step=global_step)\n",
        "# задаём оптимизатор\n",
        "saver = tf.train.Saver() # задаём сейвер\n",
        "history = {\n",
        "    'train_loss': [0] * EPOCHS,\n",
        "    'train_acc': [0] * EPOCHS,\n",
        "    'val_loss': [0] * EPOCHS,\n",
        "    'val_acc': [0] * EPOCHS,\n",
        "    'learning_rate': [0] * EPOCHS\n",
        "    } # словарь истории обучения"
      ],
      "execution_count": 0,
      "outputs": [
        {
          "output_type": "stream",
          "text": [
            "WARNING:tensorflow:From /usr/local/lib/python3.6/dist-packages/tensorflow_core/python/ops/math_grad.py:1424: where (from tensorflow.python.ops.array_ops) is deprecated and will be removed in a future version.\n",
            "Instructions for updating:\n",
            "Use tf.where in 2.0, which has the same broadcast rule as np.where\n",
            "WARNING:tensorflow:From /usr/local/lib/python3.6/dist-packages/tensorflow_core/python/training/rmsprop.py:119: calling Ones.__init__ (from tensorflow.python.ops.init_ops) with dtype is deprecated and will be removed in a future version.\n",
            "Instructions for updating:\n",
            "Call initializer instance with the dtype argument instead of passing it to the constructor\n"
          ],
          "name": "stdout"
        }
      ]
    },
    {
      "cell_type": "code",
      "metadata": {
        "id": "MHXCOYNqj7Vz",
        "colab_type": "code",
        "outputId": "fae22f23-4ed7-4bcd-8c9a-4cfc43c04aed",
        "colab": {
          "base_uri": "https://localhost:8080/",
          "height": 1000
        }
      },
      "source": [
        "with tf.Session() as sess: # открываем сессию\n",
        "  sess.run(tf.global_variables_initializer()) # инициализацируем переменные\n",
        "  \n",
        "  print('\\n'+'_' * 50 + '\\tepoch:\\ttime:\\tlearning_rate:\\ttrain_loss:\\ttrain_acc:\\tval_loss:\\tval_acc:')\n",
        "  # печатаем шапку таблицы истории обучения\n",
        "  \n",
        "  for epoch in range(EPOCHS): # для каждой эпохи\n",
        "    start = time.time() # запоминаем время её начала\n",
        "    progress = 0 # сбрасываем прогресс-бар\n",
        "    sess.run(train_iterator.initializer, feed_dict={train_x: train_inputs, train_y: train_labels})\n",
        "    # инициализацируем итератор обучающего датасета\n",
        "    \n",
        "    for batch in range(TRAIN_SIZE): # из обучающей выборки\n",
        "      batch_x, batch_y = sess.run(next_train) # получаем новый пакет данных\n",
        "      _, train_loss, train_acc, lr = sess.run([optimiser, loss, acc, learning_rate], feed_dict={x: batch_x, y: batch_y})\n",
        "      # оптимизируем параметры сети по по пакету и получаем потерю, метрику и текущий шаг обучения\n",
        "      history['train_loss'][epoch] += train_loss / TRAIN_SIZE\n",
        "      history['train_acc'][epoch] += train_acc / TRAIN_SIZE\n",
        "      history['learning_rate'][epoch] += lr / TRAIN_SIZE\n",
        "      # добавляем их в историю\n",
        "      \n",
        "      if 50 * batch / TRAIN_SIZE > progress: # каждые 50 пакетов\n",
        "        print('|', end='') # обновляем прогресс-бар\n",
        "        progress += 1      \n",
        "    \n",
        "    for batch in range(VAL_SIZE): # из проверочной выборки\n",
        "      batch_x, batch_y = sess.run(next_train) # получаем новый пакет данных\n",
        "      val_loss, val_acc = sess.run([loss, acc], feed_dict={x: batch_x, y: batch_y}) # считаем потерю и точность\n",
        "      history['val_loss'][epoch] += val_loss / VAL_SIZE\n",
        "      history['val_acc'][epoch] += val_acc / VAL_SIZE\n",
        "      # добавляем их в историю\n",
        "    \n",
        "    stats = f'\\t{epoch + 1}' + \\\n",
        "            f'\\t{round(time.time() - start)}' + \\\n",
        "            f'\\t{round(history[\"learning_rate\"][epoch], 5)}\\t' + \\\n",
        "            f'\\t{round(history[\"train_loss\"][epoch], 4)}\\t' + \\\n",
        "            f'\\t{round(history[\"train_acc\"][epoch], 4)}\\t' + \\\n",
        "            f'\\t{round(history[\"val_loss\"][epoch], 4)}\\t' + \\\n",
        "            f'\\t{round(history[\"val_acc\"][epoch], 4)}\\t'\n",
        "    print(stats) # печатаем статистику\n",
        "  print('last val loss:', round(history['val_loss'][-1], 4)) # печатаем конечную потерю на проверочной выборке\n",
        "  plot_loss(history) # печатаем график потерь\n",
        "  print('last val acc:', round(history['val_acc'][-1], 4)) # печатаем конечную точность на проверочной выборке\n",
        "  plot_acc(history) # печатаем график точности\n",
        "  \n",
        "  sess.run(test_iterator.initializer, feed_dict={test_x: test_inputs})\n",
        "  # инициализируем итератор тестовой выборки\n",
        "  y_pred = np.vstack([sess.run(y_, feed_dict={x: sess.run(next_test)}) for _ in range(len(test_inputs))])\n",
        "  # получаем предсказания на тестовой выборке\n",
        "\n",
        "  sess.run(extra_iterator.initializer, feed_dict={extra_x: extra_inputs})\n",
        "  # инициализируем итератор дополнительного датасета\n",
        "  extra_y = np.vstack([sess.run(y_, feed_dict={x: sess.run(next_extra)}) for _ in range(len(extra_inputs))])\n",
        "  # получаем предсказания на дополнительном датасете\n",
        "\n",
        "  saver.save(sess, \"checkpoints/model.ckpt\") # сохранение модели\n",
        "\n",
        "np.savez_compressed('predictions/y_pred_2002', y_pred) # сохранение тестовых предсказаний\n",
        "np.savez_compressed('predictions/extra_y', extra_y) # сохранение дополнительных предсказаний"
      ],
      "execution_count": 0,
      "outputs": [
        {
          "output_type": "stream",
          "text": [
            "\n",
            "__________________________________________________\tepoch:\ttime:\tlearning_rate:\ttrain_loss:\ttrain_acc:\tval_loss:\tval_acc:\n",
            "||||||||||||||||||||||||||||||||||||||||||||||||||\t1\t94\t0.00586\t\t4.535\t\t0.9727\t\t2.1779\t\t0.9852\t\n",
            "||||||||||||||||||||||||||||||||||||||||||||||||||\t2\t91\t0.0056\t\t1.4858\t\t0.9906\t\t0.9811\t\t0.9941\t\n",
            "||||||||||||||||||||||||||||||||||||||||||||||||||\t3\t90\t0.00535\t\t0.9179\t\t0.9945\t\t0.8201\t\t0.9952\t\n",
            "||||||||||||||||||||||||||||||||||||||||||||||||||\t4\t90\t0.00511\t\t0.7526\t\t0.9956\t\t0.7419\t\t0.9957\t\n",
            "||||||||||||||||||||||||||||||||||||||||||||||||||\t5\t88\t0.00488\t\t0.6713\t\t0.9962\t\t0.6316\t\t0.9964\t\n",
            "||||||||||||||||||||||||||||||||||||||||||||||||||\t6\t88\t0.00466\t\t0.6213\t\t0.9965\t\t0.636\t\t0.9963\t\n",
            "||||||||||||||||||||||||||||||||||||||||||||||||||\t7\t88\t0.00445\t\t0.5861\t\t0.9967\t\t0.5663\t\t0.9968\t\n",
            "||||||||||||||||||||||||||||||||||||||||||||||||||\t8\t88\t0.00425\t\t0.5594\t\t0.9968\t\t0.5562\t\t0.9969\t\n",
            "||||||||||||||||||||||||||||||||||||||||||||||||||\t9\t88\t0.00406\t\t0.5396\t\t0.997\t\t0.546\t\t0.997\t\n",
            "||||||||||||||||||||||||||||||||||||||||||||||||||\t10\t88\t0.00387\t\t0.5223\t\t0.9971\t\t0.5319\t\t0.9971\t\n",
            "||||||||||||||||||||||||||||||||||||||||||||||||||\t11\t88\t0.0037\t\t0.507\t\t0.9972\t\t0.5276\t\t0.9971\t\n",
            "||||||||||||||||||||||||||||||||||||||||||||||||||\t12\t88\t0.00353\t\t0.4947\t\t0.9972\t\t0.5369\t\t0.997\t\n",
            "||||||||||||||||||||||||||||||||||||||||||||||||||\t13\t88\t0.00337\t\t0.4829\t\t0.9973\t\t0.5162\t\t0.9972\t\n",
            "||||||||||||||||||||||||||||||||||||||||||||||||||\t14\t88\t0.00322\t\t0.4735\t\t0.9974\t\t0.5342\t\t0.9971\t\n",
            "||||||||||||||||||||||||||||||||||||||||||||||||||\t15\t88\t0.00308\t\t0.4638\t\t0.9974\t\t0.5113\t\t0.9972\t\n",
            "||||||||||||||||||||||||||||||||||||||||||||||||||\t16\t88\t0.00294\t\t0.4557\t\t0.9975\t\t0.5008\t\t0.9973\t\n",
            "||||||||||||||||||||||||||||||||||||||||||||||||||\t17\t88\t0.00281\t\t0.4484\t\t0.9975\t\t0.5028\t\t0.9973\t\n",
            "||||||||||||||||||||||||||||||||||||||||||||||||||\t18\t88\t0.00268\t\t0.4414\t\t0.9976\t\t0.4967\t\t0.9973\t\n",
            "||||||||||||||||||||||||||||||||||||||||||||||||||\t19\t88\t0.00256\t\t0.4348\t\t0.9976\t\t0.4963\t\t0.9973\t\n",
            "||||||||||||||||||||||||||||||||||||||||||||||||||\t20\t88\t0.00244\t\t0.4283\t\t0.9976\t\t0.4881\t\t0.9974\t\n",
            "||||||||||||||||||||||||||||||||||||||||||||||||||\t21\t88\t0.00233\t\t0.4229\t\t0.9977\t\t0.4839\t\t0.9974\t\n",
            "||||||||||||||||||||||||||||||||||||||||||||||||||\t22\t88\t0.00223\t\t0.418\t\t0.9977\t\t0.4813\t\t0.9974\t\n",
            "||||||||||||||||||||||||||||||||||||||||||||||||||\t23\t88\t0.00213\t\t0.4133\t\t0.9977\t\t0.478\t\t0.9975\t\n",
            "||||||||||||||||||||||||||||||||||||||||||||||||||\t24\t88\t0.00203\t\t0.4089\t\t0.9977\t\t0.4816\t\t0.9974\t\n",
            "||||||||||||||||||||||||||||||||||||||||||||||||||\t25\t88\t0.00194\t\t0.4054\t\t0.9978\t\t0.4755\t\t0.9975\t\n",
            "||||||||||||||||||||||||||||||||||||||||||||||||||\t26\t88\t0.00185\t\t0.4014\t\t0.9978\t\t0.4791\t\t0.9975\t\n",
            "||||||||||||||||||||||||||||||||||||||||||||||||||\t27\t88\t0.00177\t\t0.3977\t\t0.9978\t\t0.4728\t\t0.9975\t\n",
            "||||||||||||||||||||||||||||||||||||||||||||||||||\t28\t88\t0.00169\t\t0.3943\t\t0.9978\t\t0.4755\t\t0.9975\t\n",
            "||||||||||||||||||||||||||||||||||||||||||||||||||\t29\t88\t0.00161\t\t0.3906\t\t0.9978\t\t0.4712\t\t0.9975\t\n",
            "||||||||||||||||||||||||||||||||||||||||||||||||||\t30\t88\t0.00154\t\t0.3876\t\t0.9979\t\t0.4718\t\t0.9975\t\n",
            "||||||||||||||||||||||||||||||||||||||||||||||||||\t31\t88\t0.00147\t\t0.3852\t\t0.9979\t\t0.4723\t\t0.9975\t\n",
            "||||||||||||||||||||||||||||||||||||||||||||||||||\t32\t88\t0.00141\t\t0.382\t\t0.9979\t\t0.4726\t\t0.9975\t\n",
            "||||||||||||||||||||||||||||||||||||||||||||||||||\t33\t88\t0.00134\t\t0.3796\t\t0.9979\t\t0.4713\t\t0.9975\t\n",
            "||||||||||||||||||||||||||||||||||||||||||||||||||\t34\t89\t0.00128\t\t0.3773\t\t0.9979\t\t0.4662\t\t0.9976\t\n",
            "||||||||||||||||||||||||||||||||||||||||||||||||||\t35\t89\t0.00122\t\t0.3752\t\t0.9979\t\t0.4701\t\t0.9976\t\n",
            "||||||||||||||||||||||||||||||||||||||||||||||||||\t36\t89\t0.00117\t\t0.3721\t\t0.9979\t\t0.4693\t\t0.9976\t\n",
            "||||||||||||||||||||||||||||||||||||||||||||||||||\t37\t89\t0.00112\t\t0.3703\t\t0.998\t\t0.4719\t\t0.9975\t\n",
            "||||||||||||||||||||||||||||||||||||||||||||||||||\t38\t89\t0.00107\t\t0.3682\t\t0.998\t\t0.4698\t\t0.9976\t\n",
            "||||||||||||||||||||||||||||||||||||||||||||||||||\t39\t89\t0.00102\t\t0.3665\t\t0.998\t\t0.4677\t\t0.9976\t\n",
            "||||||||||||||||||||||||||||||||||||||||||||||||||\t40\t89\t0.00097\t\t0.3642\t\t0.998\t\t0.4698\t\t0.9976\t\n",
            "||||||||||||||||||||||||||||||||||||||||||||||||||\t41\t89\t0.00093\t\t0.3626\t\t0.998\t\t0.4748\t\t0.9975\t\n",
            "||||||||||||||||||||||||||||||||||||||||||||||||||\t42\t89\t0.00089\t\t0.3607\t\t0.998\t\t0.4703\t\t0.9976\t\n",
            "||||||||||||||||||||||||||||||||||||||||||||||||||\t43\t89\t0.00085\t\t0.359\t\t0.998\t\t0.466\t\t0.9976\t\n",
            "||||||||||||||||||||||||||||||||||||||||||||||||||\t44\t89\t0.00081\t\t0.3575\t\t0.998\t\t0.4679\t\t0.9976\t\n",
            "||||||||||||||||||||||||||||||||||||||||||||||||||\t45\t89\t0.00077\t\t0.3558\t\t0.998\t\t0.469\t\t0.9976\t\n",
            "||||||||||||||||||||||||||||||||||||||||||||||||||\t46\t89\t0.00074\t\t0.3544\t\t0.998\t\t0.4689\t\t0.9976\t\n",
            "||||||||||||||||||||||||||||||||||||||||||||||||||\t47\t89\t0.0007\t\t0.3519\t\t0.9981\t\t0.4722\t\t0.9976\t\n",
            "||||||||||||||||||||||||||||||||||||||||||||||||||\t48\t89\t0.00067\t\t0.351\t\t0.9981\t\t0.4697\t\t0.9976\t\n",
            "||||||||||||||||||||||||||||||||||||||||||||||||||\t49\t89\t0.00064\t\t0.3498\t\t0.9981\t\t0.4693\t\t0.9976\t\n",
            "||||||||||||||||||||||||||||||||||||||||||||||||||\t50\t89\t0.00061\t\t0.3481\t\t0.9981\t\t0.4695\t\t0.9976\t\n",
            "||||||||||||||||||||||||||||||||||||||||||||||||||\t51\t89\t0.00059\t\t0.3471\t\t0.9981\t\t0.4676\t\t0.9976\t\n",
            "||||||||||||||||||||||||||||||||||||||||||||||||||\t52\t89\t0.00056\t\t0.3457\t\t0.9981\t\t0.4731\t\t0.9976\t\n",
            "||||||||||||||||||||||||||||||||||||||||||||||||||\t53\t89\t0.00053\t\t0.3445\t\t0.9981\t\t0.4692\t\t0.9976\t\n",
            "||||||||||||||||||||||||||||||||||||||||||||||||||\t54\t89\t0.00051\t\t0.343\t\t0.9981\t\t0.4731\t\t0.9976\t\n",
            "||||||||||||||||||||||||||||||||||||||||||||||||||\t55\t89\t0.00049\t\t0.342\t\t0.9981\t\t0.4743\t\t0.9976\t\n",
            "||||||||||||||||||||||||||||||||||||||||||||||||||\t56\t89\t0.00047\t\t0.3415\t\t0.9981\t\t0.4671\t\t0.9976\t\n",
            "||||||||||||||||||||||||||||||||||||||||||||||||||\t57\t89\t0.00044\t\t0.3401\t\t0.9981\t\t0.4704\t\t0.9976\t\n",
            "||||||||||||||||||||||||||||||||||||||||||||||||||\t58\t89\t0.00042\t\t0.3395\t\t0.9981\t\t0.4708\t\t0.9976\t\n",
            "||||||||||||||||||||||||||||||||||||||||||||||||||\t59\t89\t0.00041\t\t0.3384\t\t0.9981\t\t0.4715\t\t0.9976\t\n",
            "||||||||||||||||||||||||||||||||||||||||||||||||||\t60\t89\t0.00039\t\t0.3378\t\t0.9981\t\t0.4716\t\t0.9976\t\n",
            "last val loss: 0.4716\n"
          ],
          "name": "stdout"
        },
        {
          "output_type": "display_data",
          "data": {
            "image/png": "[encoded data removed]",
            "text/plain": [
              "<Figure size 1296x432 with 1 Axes>"
            ]
          },
          "metadata": {
            "tags": []
          }
        },
        {
          "output_type": "stream",
          "text": [
            "last val acc: 0.9976\n"
          ],
          "name": "stdout"
        },
        {
          "output_type": "display_data",
          "data": {
            "image/png": "[encoded data removed]",
            "text/plain": [
              "<Figure size 1296x432 with 1 Axes>"
            ]
          },
          "metadata": {
            "tags": []
          }
        }
      ]
    },
    {
      "cell_type": "markdown",
      "metadata": {
        "id": "sGE39AXOoUQO",
        "colab_type": "text"
      },
      "source": [
        "##Testing"
      ]
    },
    {
      "cell_type": "code",
      "metadata": {
        "id": "7lhX5RwXskY8",
        "colab_type": "code",
        "colab": {}
      },
      "source": [
        "y_pred = np.load('predictions/y_pred_2002.npz')['arr_0'].round() # загружаем тестовые предсказания"
      ],
      "execution_count": 0,
      "outputs": []
    },
    {
      "cell_type": "markdown",
      "metadata": {
        "id": "amaXnehh0tF6",
        "colab_type": "text"
      },
      "source": [
        "###Точность на уровне граммем"
      ]
    },
    {
      "cell_type": "code",
      "metadata": {
        "id": "h7V_gca9svua",
        "colab_type": "code",
        "outputId": "60198378-4f72-4416-80c6-a0da7ca70341",
        "colab": {
          "base_uri": "https://localhost:8080/",
          "height": 34
        }
      },
      "source": [
        "round((test_labels == y_pred).mean(), 4)"
      ],
      "execution_count": 0,
      "outputs": [
        {
          "output_type": "execute_result",
          "data": {
            "text/plain": [
              "0.9975"
            ]
          },
          "metadata": {
            "tags": []
          },
          "execution_count": 26
        }
      ]
    },
    {
      "cell_type": "markdown",
      "metadata": {
        "id": "lDWZGDNJ00LO",
        "colab_type": "text"
      },
      "source": [
        "###F1-score на уровне граммем"
      ]
    },
    {
      "cell_type": "code",
      "metadata": {
        "id": "ZzzeHzo8tIPU",
        "colab_type": "code",
        "outputId": "470381a5-bb6b-41e5-8b21-f24884881986",
        "colab": {
          "base_uri": "https://localhost:8080/",
          "height": 1000
        }
      },
      "source": [
        "for i in range(len(grammemes)):\n",
        "  print(f'{grammemes.description[i]}\\n{grammemes.grammeme[i]}')\n",
        "  print(classification_report(test_labels.reshape((-1, TAG_DIM))[:, i], y_pred.reshape((-1, TAG_DIM))[:, i]), end='\\n\\n')"
      ],
      "execution_count": 0,
      "outputs": [
        {
          "output_type": "stream",
          "text": [
            "существительное\n",
            "NOUN\n",
            "              precision    recall  f1-score   support\n",
            "\n",
            "         0.0       1.00      1.00      1.00    728682\n",
            "         1.0       0.99      0.98      0.99    174422\n",
            "\n",
            "    accuracy                           0.99    903104\n",
            "   macro avg       0.99      0.99      0.99    903104\n",
            "weighted avg       0.99      0.99      0.99    903104\n",
            "\n",
            "\n",
            "полное прилагательное\n",
            "ADJF\n",
            "              precision    recall  f1-score   support\n",
            "\n",
            "         0.0       1.00      1.00      1.00    845000\n",
            "         1.0       0.98      0.98      0.98     58104\n",
            "\n",
            "    accuracy                           1.00    903104\n",
            "   macro avg       0.99      0.99      0.99    903104\n",
            "weighted avg       1.00      1.00      1.00    903104\n",
            "\n",
            "\n",
            "краткое прилагательное\n",
            "ADJS\n",
            "              precision    recall  f1-score   support\n",
            "\n",
            "         0.0       1.00      1.00      1.00    900141\n",
            "         1.0       0.92      0.81      0.86      2963\n",
            "\n",
            "    accuracy                           1.00    903104\n",
            "   macro avg       0.96      0.91      0.93    903104\n",
            "weighted avg       1.00      1.00      1.00    903104\n",
            "\n",
            "\n",
            "компаратив\n",
            "COMP\n",
            "              precision    recall  f1-score   support\n",
            "\n",
            "         0.0       1.00      1.00      1.00    902729\n",
            "         1.0       0.93      0.80      0.86       375\n",
            "\n",
            "    accuracy                           1.00    903104\n",
            "   macro avg       0.96      0.90      0.93    903104\n",
            "weighted avg       1.00      1.00      1.00    903104\n",
            "\n",
            "\n",
            "глагол\n",
            "VERB\n",
            "              precision    recall  f1-score   support\n",
            "\n",
            "         0.0       1.00      1.00      1.00    860637\n",
            "         1.0       0.99      0.99      0.99     42467\n",
            "\n",
            "    accuracy                           1.00    903104\n",
            "   macro avg       1.00      0.99      1.00    903104\n",
            "weighted avg       1.00      1.00      1.00    903104\n",
            "\n",
            "\n",
            "инфинитив\n",
            "INFN\n",
            "              precision    recall  f1-score   support\n",
            "\n",
            "         0.0       1.00      1.00      1.00    892924\n",
            "         1.0       1.00      1.00      1.00     10180\n",
            "\n",
            "    accuracy                           1.00    903104\n",
            "   macro avg       1.00      1.00      1.00    903104\n",
            "weighted avg       1.00      1.00      1.00    903104\n",
            "\n",
            "\n",
            "полное причастие\n",
            "PRTF\n",
            "              precision    recall  f1-score   support\n",
            "\n",
            "         0.0       1.00      1.00      1.00    898074\n",
            "         1.0       0.98      0.96      0.97      5030\n",
            "\n",
            "    accuracy                           1.00    903104\n",
            "   macro avg       0.99      0.98      0.98    903104\n",
            "weighted avg       1.00      1.00      1.00    903104\n",
            "\n",
            "\n",
            "краткое причастие\n",
            "PRTS\n",
            "              precision    recall  f1-score   support\n",
            "\n",
            "         0.0       1.00      1.00      1.00    898145\n",
            "         1.0       0.99      0.97      0.98      4959\n",
            "\n",
            "    accuracy                           1.00    903104\n",
            "   macro avg       0.99      0.98      0.99    903104\n",
            "weighted avg       1.00      1.00      1.00    903104\n",
            "\n",
            "\n",
            "деепричастие\n",
            "GRND\n",
            "              precision    recall  f1-score   support\n",
            "\n",
            "         0.0       1.00      1.00      1.00    901881\n",
            "         1.0       0.97      0.86      0.91      1223\n",
            "\n",
            "    accuracy                           1.00    903104\n",
            "   macro avg       0.99      0.93      0.96    903104\n",
            "weighted avg       1.00      1.00      1.00    903104\n",
            "\n",
            "\n",
            "числительное\n",
            "NUMR\n",
            "              precision    recall  f1-score   support\n",
            "\n",
            "         0.0       1.00      1.00      1.00    900641\n",
            "         1.0       0.98      0.98      0.98      2463\n",
            "\n",
            "    accuracy                           1.00    903104\n",
            "   macro avg       0.99      0.99      0.99    903104\n",
            "weighted avg       1.00      1.00      1.00    903104\n",
            "\n",
            "\n",
            "наречие\n",
            "ADVB\n",
            "              precision    recall  f1-score   support\n",
            "\n",
            "         0.0       1.00      1.00      1.00    889619\n",
            "         1.0       0.96      0.92      0.94     13485\n",
            "\n",
            "    accuracy                           1.00    903104\n",
            "   macro avg       0.98      0.96      0.97    903104\n",
            "weighted avg       1.00      1.00      1.00    903104\n",
            "\n",
            "\n",
            "местоимение\n",
            "NPRO\n",
            "              precision    recall  f1-score   support\n",
            "\n",
            "         0.0       1.00      1.00      1.00    889294\n",
            "         1.0       0.97      0.98      0.98     13810\n",
            "\n",
            "    accuracy                           1.00    903104\n",
            "   macro avg       0.99      0.99      0.99    903104\n",
            "weighted avg       1.00      1.00      1.00    903104\n",
            "\n",
            "\n",
            "предикатив\n",
            "PRED\n",
            "              precision    recall  f1-score   support\n",
            "\n",
            "         0.0       1.00      1.00      1.00    902273\n",
            "         1.0       0.95      0.91      0.93       831\n",
            "\n",
            "    accuracy                           1.00    903104\n",
            "   macro avg       0.98      0.96      0.97    903104\n",
            "weighted avg       1.00      1.00      1.00    903104\n",
            "\n",
            "\n",
            "предлог\n",
            "PREP\n",
            "              precision    recall  f1-score   support\n",
            "\n",
            "         0.0       1.00      1.00      1.00    850233\n",
            "         1.0       0.96      1.00      0.98     52871\n",
            "\n",
            "    accuracy                           1.00    903104\n",
            "   macro avg       0.98      1.00      0.99    903104\n",
            "weighted avg       1.00      1.00      1.00    903104\n",
            "\n",
            "\n",
            "союз\n",
            "CONJ\n",
            "              precision    recall  f1-score   support\n",
            "\n",
            "         0.0       1.00      1.00      1.00    872672\n",
            "         1.0       0.95      0.99      0.97     30432\n",
            "\n",
            "    accuracy                           1.00    903104\n",
            "   macro avg       0.98      0.99      0.98    903104\n",
            "weighted avg       1.00      1.00      1.00    903104\n",
            "\n",
            "\n",
            "частица\n",
            "PRCL\n",
            "              precision    recall  f1-score   support\n",
            "\n",
            "         0.0       1.00      1.00      1.00    893676\n",
            "         1.0       0.96      0.94      0.95      9428\n",
            "\n",
            "    accuracy                           1.00    903104\n",
            "   macro avg       0.98      0.97      0.97    903104\n",
            "weighted avg       1.00      1.00      1.00    903104\n",
            "\n",
            "\n",
            "междометие\n",
            "INTJ\n",
            "              precision    recall  f1-score   support\n",
            "\n",
            "         0.0       1.00      1.00      1.00    902461\n",
            "         1.0       0.83      0.05      0.10       643\n",
            "\n",
            "    accuracy                           1.00    903104\n",
            "   macro avg       0.92      0.53      0.55    903104\n",
            "weighted avg       1.00      1.00      1.00    903104\n",
            "\n",
            "\n",
            "именительный падеж\n",
            "nomn\n",
            "              precision    recall  f1-score   support\n",
            "\n",
            "         0.0       0.99      0.99      0.99    832550\n",
            "         1.0       0.91      0.92      0.92     70554\n",
            "\n",
            "    accuracy                           0.99    903104\n",
            "   macro avg       0.95      0.96      0.96    903104\n",
            "weighted avg       0.99      0.99      0.99    903104\n",
            "\n",
            "\n",
            "родительный падеж\n",
            "gent\n",
            "              precision    recall  f1-score   support\n",
            "\n",
            "         0.0       1.00      0.99      0.99    818162\n",
            "         1.0       0.92      0.96      0.94     84942\n",
            "\n",
            "    accuracy                           0.99    903104\n",
            "   macro avg       0.96      0.97      0.97    903104\n",
            "weighted avg       0.99      0.99      0.99    903104\n",
            "\n",
            "\n",
            "дательный падеж\n",
            "datv\n",
            "              precision    recall  f1-score   support\n",
            "\n",
            "         0.0       1.00      1.00      1.00    888409\n",
            "         1.0       0.95      0.90      0.92     14695\n",
            "\n",
            "    accuracy                           1.00    903104\n",
            "   macro avg       0.97      0.95      0.96    903104\n",
            "weighted avg       1.00      1.00      1.00    903104\n",
            "\n",
            "\n",
            "винительный падеж\n",
            "accs\n",
            "              precision    recall  f1-score   support\n",
            "\n",
            "         0.0       0.99      1.00      0.99    864599\n",
            "         1.0       0.90      0.73      0.81     38505\n",
            "\n",
            "    accuracy                           0.99    903104\n",
            "   macro avg       0.95      0.87      0.90    903104\n",
            "weighted avg       0.98      0.99      0.98    903104\n",
            "\n",
            "\n",
            "творительный падеж\n",
            "ablt\n",
            "              precision    recall  f1-score   support\n",
            "\n",
            "         0.0       1.00      1.00      1.00    885799\n",
            "         1.0       0.94      0.91      0.93     17305\n",
            "\n",
            "    accuracy                           1.00    903104\n",
            "   macro avg       0.97      0.96      0.96    903104\n",
            "weighted avg       1.00      1.00      1.00    903104\n",
            "\n",
            "\n",
            "предложный падеж\n",
            "loct\n",
            "              precision    recall  f1-score   support\n",
            "\n",
            "         0.0       0.99      1.00      1.00    875313\n",
            "         1.0       0.95      0.83      0.89     27791\n",
            "\n",
            "    accuracy                           0.99    903104\n",
            "   macro avg       0.97      0.91      0.94    903104\n",
            "weighted avg       0.99      0.99      0.99    903104\n",
            "\n",
            "\n",
            "звательный падеж\n",
            "voct\n",
            "              precision    recall  f1-score   support\n",
            "\n",
            "         0.0       1.00      1.00      1.00    903092\n",
            "         1.0       1.00      0.33      0.50        12\n",
            "\n",
            "    accuracy                           1.00    903104\n",
            "   macro avg       1.00      0.67      0.75    903104\n",
            "weighted avg       1.00      1.00      1.00    903104\n",
            "\n",
            "\n",
            "частичный  падеж\n",
            "gen2\n",
            "              precision    recall  f1-score   support\n",
            "\n",
            "         0.0       1.00      1.00      1.00    903096\n",
            "         1.0       0.00      0.00      0.00         8\n",
            "\n",
            "    accuracy                           1.00    903104\n",
            "   macro avg       0.50      0.50      0.50    903104\n",
            "weighted avg       1.00      1.00      1.00    903104\n",
            "\n",
            "\n",
            "второй винительный падеж\n",
            "acc2\n",
            "              precision    recall  f1-score   support\n",
            "\n",
            "         0.0       1.00      1.00      1.00    903104\n",
            "\n",
            "    accuracy                           1.00    903104\n",
            "   macro avg       1.00      1.00      1.00    903104\n",
            "weighted avg       1.00      1.00      1.00    903104\n",
            "\n",
            "\n",
            "местный падеж\n",
            "loc2\n",
            "              precision    recall  f1-score   support\n",
            "\n",
            "         0.0       1.00      1.00      1.00    903087\n",
            "         1.0       0.00      0.00      0.00        17\n",
            "\n",
            "    accuracy                           1.00    903104\n",
            "   macro avg       0.50      0.50      0.50    903104\n",
            "weighted avg       1.00      1.00      1.00    903104\n",
            "\n",
            "\n",
            "единственное число\n",
            "sing\n",
            "              precision    recall  f1-score   support\n",
            "\n",
            "         0.0       1.00      0.99      0.99    690889\n",
            "         1.0       0.98      0.99      0.98    212215\n",
            "\n",
            "    accuracy                           0.99    903104\n",
            "   macro avg       0.99      0.99      0.99    903104\n",
            "weighted avg       0.99      0.99      0.99    903104\n",
            "\n",
            "\n",
            "множественное число\n",
            "plur\n",
            "              precision    recall  f1-score   support\n",
            "\n",
            "         0.0       0.99      1.00      0.99    813564\n",
            "         1.0       0.97      0.93      0.95     89540\n",
            "\n",
            "    accuracy                           0.99    903104\n",
            "   macro avg       0.98      0.96      0.97    903104\n",
            "weighted avg       0.99      0.99      0.99    903104\n",
            "\n",
            "\n",
            "мужской род\n",
            "masc\n",
            "              precision    recall  f1-score   support\n",
            "\n",
            "         0.0       0.99      1.00      0.99    793077\n",
            "         1.0       0.97      0.95      0.96    110027\n",
            "\n",
            "    accuracy                           0.99    903104\n",
            "   macro avg       0.98      0.97      0.98    903104\n",
            "weighted avg       0.99      0.99      0.99    903104\n",
            "\n",
            "\n",
            "женский род\n",
            "femn\n",
            "              precision    recall  f1-score   support\n",
            "\n",
            "         0.0       1.00      1.00      1.00    827185\n",
            "         1.0       0.98      0.97      0.97     75919\n",
            "\n",
            "    accuracy                           1.00    903104\n",
            "   macro avg       0.99      0.98      0.98    903104\n",
            "weighted avg       1.00      1.00      1.00    903104\n",
            "\n",
            "\n",
            "средний род\n",
            "neut\n",
            "              precision    recall  f1-score   support\n",
            "\n",
            "         0.0       1.00      1.00      1.00    846693\n",
            "         1.0       0.96      0.95      0.96     56411\n",
            "\n",
            "    accuracy                           0.99    903104\n",
            "   macro avg       0.98      0.98      0.98    903104\n",
            "weighted avg       0.99      0.99      0.99    903104\n",
            "\n",
            "\n",
            "общий род\n",
            "Ms-f\n",
            "              precision    recall  f1-score   support\n",
            "\n",
            "         0.0       1.00      1.00      1.00    902145\n",
            "         1.0       0.94      0.88      0.91       959\n",
            "\n",
            "    accuracy                           1.00    903104\n",
            "   macro avg       0.97      0.94      0.95    903104\n",
            "weighted avg       1.00      1.00      1.00    903104\n",
            "\n",
            "\n",
            "одушевлённые\n",
            "anim\n",
            "              precision    recall  f1-score   support\n",
            "\n",
            "         0.0       1.00      1.00      1.00    864519\n",
            "         1.0       0.94      0.91      0.93     38585\n",
            "\n",
            "    accuracy                           0.99    903104\n",
            "   macro avg       0.97      0.95      0.96    903104\n",
            "weighted avg       0.99      0.99      0.99    903104\n",
            "\n",
            "\n",
            "неодушевлённые\n",
            "inan\n",
            "              precision    recall  f1-score   support\n",
            "\n",
            "         0.0       0.99      1.00      0.99    760340\n",
            "         1.0       0.98      0.96      0.97    142764\n",
            "\n",
            "    accuracy                           0.99    903104\n",
            "   macro avg       0.99      0.98      0.98    903104\n",
            "weighted avg       0.99      0.99      0.99    903104\n",
            "\n",
            "\n",
            "совершенный вид\n",
            "perf\n",
            "              precision    recall  f1-score   support\n",
            "\n",
            "         0.0       1.00      1.00      1.00    870419\n",
            "         1.0       0.98      0.97      0.98     32685\n",
            "\n",
            "    accuracy                           1.00    903104\n",
            "   macro avg       0.99      0.99      0.99    903104\n",
            "weighted avg       1.00      1.00      1.00    903104\n",
            "\n",
            "\n",
            "несовершенный вид\n",
            "impf\n",
            "              precision    recall  f1-score   support\n",
            "\n",
            "         0.0       1.00      1.00      1.00    871930\n",
            "         1.0       0.98      0.97      0.97     31174\n",
            "\n",
            "    accuracy                           1.00    903104\n",
            "   macro avg       0.99      0.99      0.99    903104\n",
            "weighted avg       1.00      1.00      1.00    903104\n",
            "\n",
            "\n",
            "переходный\n",
            "tran\n",
            "              precision    recall  f1-score   support\n",
            "\n",
            "         0.0       1.00      1.00      1.00    870751\n",
            "         1.0       0.98      0.97      0.98     32353\n",
            "\n",
            "    accuracy                           1.00    903104\n",
            "   macro avg       0.99      0.99      0.99    903104\n",
            "weighted avg       1.00      1.00      1.00    903104\n",
            "\n",
            "\n",
            "непереходный\n",
            "intr\n",
            "              precision    recall  f1-score   support\n",
            "\n",
            "         0.0       1.00      1.00      1.00    876557\n",
            "         1.0       0.98      0.98      0.98     26547\n",
            "\n",
            "    accuracy                           1.00    903104\n",
            "   macro avg       0.99      0.99      0.99    903104\n",
            "weighted avg       1.00      1.00      1.00    903104\n",
            "\n",
            "\n",
            "1 лицо\n",
            "1per\n",
            "              precision    recall  f1-score   support\n",
            "\n",
            "         0.0       1.00      1.00      1.00    900185\n",
            "         1.0       0.98      0.97      0.98      2919\n",
            "\n",
            "    accuracy                           1.00    903104\n",
            "   macro avg       0.99      0.99      0.99    903104\n",
            "weighted avg       1.00      1.00      1.00    903104\n",
            "\n",
            "\n",
            "2 лицо\n",
            "2per\n",
            "              precision    recall  f1-score   support\n",
            "\n",
            "         0.0       1.00      1.00      1.00    902806\n",
            "         1.0       0.93      0.93      0.93       298\n",
            "\n",
            "    accuracy                           1.00    903104\n",
            "   macro avg       0.96      0.97      0.96    903104\n",
            "weighted avg       1.00      1.00      1.00    903104\n",
            "\n",
            "\n",
            "3 лицо\n",
            "3per\n",
            "              precision    recall  f1-score   support\n",
            "\n",
            "         0.0       1.00      1.00      1.00    877389\n",
            "         1.0       0.99      0.99      0.99     25715\n",
            "\n",
            "    accuracy                           1.00    903104\n",
            "   macro avg       0.99      1.00      1.00    903104\n",
            "weighted avg       1.00      1.00      1.00    903104\n",
            "\n",
            "\n",
            "настоящее время\n",
            "pres\n",
            "              precision    recall  f1-score   support\n",
            "\n",
            "         0.0       1.00      1.00      1.00    885307\n",
            "         1.0       0.98      0.97      0.97     17797\n",
            "\n",
            "    accuracy                           1.00    903104\n",
            "   macro avg       0.99      0.98      0.99    903104\n",
            "weighted avg       1.00      1.00      1.00    903104\n",
            "\n",
            "\n",
            "прошедшее время\n",
            "past\n",
            "              precision    recall  f1-score   support\n",
            "\n",
            "         0.0       1.00      1.00      1.00    871874\n",
            "         1.0       0.99      0.98      0.98     31230\n",
            "\n",
            "    accuracy                           1.00    903104\n",
            "   macro avg       0.99      0.99      0.99    903104\n",
            "weighted avg       1.00      1.00      1.00    903104\n",
            "\n",
            "\n",
            "будущее время\n",
            "futr\n",
            "              precision    recall  f1-score   support\n",
            "\n",
            "         0.0       1.00      1.00      1.00    897912\n",
            "         1.0       0.97      0.95      0.96      5192\n",
            "\n",
            "    accuracy                           1.00    903104\n",
            "   macro avg       0.98      0.97      0.98    903104\n",
            "weighted avg       1.00      1.00      1.00    903104\n",
            "\n",
            "\n",
            "изъявительное наклонение\n",
            "indc\n",
            "              precision    recall  f1-score   support\n",
            "\n",
            "         0.0       1.00      1.00      1.00    860928\n",
            "         1.0       0.99      0.99      0.99     42176\n",
            "\n",
            "    accuracy                           1.00    903104\n",
            "   macro avg       1.00      1.00      1.00    903104\n",
            "weighted avg       1.00      1.00      1.00    903104\n",
            "\n",
            "\n",
            "повелительное наклонение\n",
            "impr\n",
            "              precision    recall  f1-score   support\n",
            "\n",
            "         0.0       1.00      1.00      1.00    902813\n",
            "         1.0       0.73      0.46      0.56       291\n",
            "\n",
            "    accuracy                           1.00    903104\n",
            "   macro avg       0.87      0.73      0.78    903104\n",
            "weighted avg       1.00      1.00      1.00    903104\n",
            "\n",
            "\n",
            "действительный залог\n",
            "actv\n",
            "              precision    recall  f1-score   support\n",
            "\n",
            "         0.0       1.00      1.00      1.00    900441\n",
            "         1.0       0.98      0.96      0.97      2663\n",
            "\n",
            "    accuracy                           1.00    903104\n",
            "   macro avg       0.99      0.98      0.99    903104\n",
            "weighted avg       1.00      1.00      1.00    903104\n",
            "\n",
            "\n",
            "страдательный залог\n",
            "pssv\n",
            "              precision    recall  f1-score   support\n",
            "\n",
            "         0.0       1.00      1.00      1.00    895778\n",
            "         1.0       0.98      0.96      0.97      7326\n",
            "\n",
            "    accuracy                           1.00    903104\n",
            "   macro avg       0.99      0.98      0.99    903104\n",
            "weighted avg       1.00      1.00      1.00    903104\n",
            "\n",
            "\n",
            "аббревиатура\n",
            "Abbr\n",
            "              precision    recall  f1-score   support\n",
            "\n",
            "         0.0       1.00      1.00      1.00    899110\n",
            "         1.0       0.95      0.53      0.68      3994\n",
            "\n",
            "    accuracy                           1.00    903104\n",
            "   macro avg       0.98      0.77      0.84    903104\n",
            "weighted avg       1.00      1.00      1.00    903104\n",
            "\n",
            "\n",
            "имя\n",
            "Name\n",
            "              precision    recall  f1-score   support\n",
            "\n",
            "         0.0       1.00      1.00      1.00    896188\n",
            "         1.0       0.89      0.81      0.85      6916\n",
            "\n",
            "    accuracy                           1.00    903104\n",
            "   macro avg       0.95      0.91      0.93    903104\n",
            "weighted avg       1.00      1.00      1.00    903104\n",
            "\n",
            "\n",
            "фамилия\n",
            "Surn\n",
            "              precision    recall  f1-score   support\n",
            "\n",
            "         0.0       1.00      1.00      1.00    897536\n",
            "         1.0       0.91      0.86      0.88      5568\n",
            "\n",
            "    accuracy                           1.00    903104\n",
            "   macro avg       0.95      0.93      0.94    903104\n",
            "weighted avg       1.00      1.00      1.00    903104\n",
            "\n",
            "\n",
            "отчество\n",
            "Patr\n",
            "              precision    recall  f1-score   support\n",
            "\n",
            "         0.0       1.00      1.00      1.00    902960\n",
            "         1.0       0.86      0.69      0.77       144\n",
            "\n",
            "    accuracy                           1.00    903104\n",
            "   macro avg       0.93      0.85      0.88    903104\n",
            "weighted avg       1.00      1.00      1.00    903104\n",
            "\n",
            "\n",
            "топоним\n",
            "Geox\n",
            "              precision    recall  f1-score   support\n",
            "\n",
            "         0.0       1.00      1.00      1.00    892951\n",
            "         1.0       0.97      0.92      0.94     10153\n",
            "\n",
            "    accuracy                           1.00    903104\n",
            "   macro avg       0.98      0.96      0.97    903104\n",
            "weighted avg       1.00      1.00      1.00    903104\n",
            "\n",
            "\n",
            "превосходная степень\n",
            "Supr\n",
            "              precision    recall  f1-score   support\n",
            "\n",
            "         0.0       1.00      1.00      1.00    902524\n",
            "         1.0       1.00      0.99      1.00       580\n",
            "\n",
            "    accuracy                           1.00    903104\n",
            "   macro avg       1.00      1.00      1.00    903104\n",
            "weighted avg       1.00      1.00      1.00    903104\n",
            "\n",
            "\n",
            "местоименное\n",
            "Apro\n",
            "              precision    recall  f1-score   support\n",
            "\n",
            "         0.0       1.00      1.00      1.00    886255\n",
            "         1.0       0.98      0.98      0.98     16849\n",
            "\n",
            "    accuracy                           1.00    903104\n",
            "   macro avg       0.99      0.99      0.99    903104\n",
            "weighted avg       1.00      1.00      1.00    903104\n",
            "\n",
            "\n",
            "сравнительная степень на по-\n",
            "Cmp2\n",
            "              precision    recall  f1-score   support\n",
            "\n",
            "         0.0       1.00      1.00      1.00    903086\n",
            "         1.0       0.00      0.00      0.00        18\n",
            "\n",
            "    accuracy                           1.00    903104\n",
            "   macro avg       0.50      0.50      0.50    903104\n",
            "weighted avg       1.00      1.00      1.00    903104\n",
            "\n",
            "\n",
            "инициал\n",
            "Init\n",
            "              precision    recall  f1-score   support\n",
            "\n",
            "         0.0       1.00      1.00      1.00    903034\n",
            "         1.0       0.96      0.73      0.83        70\n",
            "\n",
            "    accuracy                           1.00    903104\n",
            "   macro avg       0.98      0.86      0.91    903104\n",
            "weighted avg       1.00      1.00      1.00    903104\n",
            "\n",
            "\n"
          ],
          "name": "stdout"
        }
      ]
    },
    {
      "cell_type": "code",
      "metadata": {
        "id": "KIwnsa9Z4UY8",
        "colab_type": "code",
        "outputId": "3feb46b3-e786-426b-d10f-d7960b3ccf3d",
        "colab": {
          "base_uri": "https://localhost:8080/",
          "height": 1000
        }
      },
      "source": [
        "f1_scores = pd.DataFrame({\n",
        "    'grammeme': [grammemes.description[i] for i in range(len(grammemes))],\n",
        "    'f1_score': [round(f1_score(test_labels.reshape((-1, TAG_DIM))[:, i], y_pred.reshape((-1, TAG_DIM))[:, i]), 4) for i in range(len(grammemes))],\n",
        "    'support': [int(test_labels.reshape((-1, TAG_DIM))[:, i].sum()) for i in range(len(grammemes))]\n",
        "})\n",
        "\n",
        "f1_scores"
      ],
      "execution_count": 0,
      "outputs": [
        {
          "output_type": "execute_result",
          "data": {
            "text/html": [
              "<div>\n",
              "<style scoped>\n",
              "    .dataframe tbody tr th:only-of-type {\n",
              "        vertical-align: middle;\n",
              "    }\n",
              "\n",
              "    .dataframe tbody tr th {\n",
              "        vertical-align: top;\n",
              "    }\n",
              "\n",
              "    .dataframe thead th {\n",
              "        text-align: right;\n",
              "    }\n",
              "</style>\n",
              "<table border=\"1\" class=\"dataframe\">\n",
              "  <thead>\n",
              "    <tr style=\"text-align: right;\">\n",
              "      <th></th>\n",
              "      <th>grammeme</th>\n",
              "      <th>f1_score</th>\n",
              "      <th>support</th>\n",
              "    </tr>\n",
              "  </thead>\n",
              "  <tbody>\n",
              "    <tr>\n",
              "      <th>0</th>\n",
              "      <td>существительное</td>\n",
              "      <td>0.9859</td>\n",
              "      <td>174422</td>\n",
              "    </tr>\n",
              "    <tr>\n",
              "      <th>1</th>\n",
              "      <td>полное прилагательное</td>\n",
              "      <td>0.9799</td>\n",
              "      <td>58104</td>\n",
              "    </tr>\n",
              "    <tr>\n",
              "      <th>2</th>\n",
              "      <td>краткое прилагательное</td>\n",
              "      <td>0.8632</td>\n",
              "      <td>2963</td>\n",
              "    </tr>\n",
              "    <tr>\n",
              "      <th>3</th>\n",
              "      <td>компаратив</td>\n",
              "      <td>0.8612</td>\n",
              "      <td>375</td>\n",
              "    </tr>\n",
              "    <tr>\n",
              "      <th>4</th>\n",
              "      <td>глагол</td>\n",
              "      <td>0.9905</td>\n",
              "      <td>42467</td>\n",
              "    </tr>\n",
              "    <tr>\n",
              "      <th>5</th>\n",
              "      <td>инфинитив</td>\n",
              "      <td>0.9962</td>\n",
              "      <td>10180</td>\n",
              "    </tr>\n",
              "    <tr>\n",
              "      <th>6</th>\n",
              "      <td>полное причастие</td>\n",
              "      <td>0.9691</td>\n",
              "      <td>5030</td>\n",
              "    </tr>\n",
              "    <tr>\n",
              "      <th>7</th>\n",
              "      <td>краткое причастие</td>\n",
              "      <td>0.9780</td>\n",
              "      <td>4959</td>\n",
              "    </tr>\n",
              "    <tr>\n",
              "      <th>8</th>\n",
              "      <td>деепричастие</td>\n",
              "      <td>0.9145</td>\n",
              "      <td>1223</td>\n",
              "    </tr>\n",
              "    <tr>\n",
              "      <th>9</th>\n",
              "      <td>числительное</td>\n",
              "      <td>0.9791</td>\n",
              "      <td>2463</td>\n",
              "    </tr>\n",
              "    <tr>\n",
              "      <th>10</th>\n",
              "      <td>наречие</td>\n",
              "      <td>0.9403</td>\n",
              "      <td>13485</td>\n",
              "    </tr>\n",
              "    <tr>\n",
              "      <th>11</th>\n",
              "      <td>местоимение</td>\n",
              "      <td>0.9775</td>\n",
              "      <td>13810</td>\n",
              "    </tr>\n",
              "    <tr>\n",
              "      <th>12</th>\n",
              "      <td>предикатив</td>\n",
              "      <td>0.9342</td>\n",
              "      <td>831</td>\n",
              "    </tr>\n",
              "    <tr>\n",
              "      <th>13</th>\n",
              "      <td>предлог</td>\n",
              "      <td>0.9782</td>\n",
              "      <td>52871</td>\n",
              "    </tr>\n",
              "    <tr>\n",
              "      <th>14</th>\n",
              "      <td>союз</td>\n",
              "      <td>0.9696</td>\n",
              "      <td>30432</td>\n",
              "    </tr>\n",
              "    <tr>\n",
              "      <th>15</th>\n",
              "      <td>частица</td>\n",
              "      <td>0.9503</td>\n",
              "      <td>9428</td>\n",
              "    </tr>\n",
              "    <tr>\n",
              "      <th>16</th>\n",
              "      <td>междометие</td>\n",
              "      <td>0.1022</td>\n",
              "      <td>643</td>\n",
              "    </tr>\n",
              "    <tr>\n",
              "      <th>17</th>\n",
              "      <td>именительный падеж</td>\n",
              "      <td>0.9189</td>\n",
              "      <td>70554</td>\n",
              "    </tr>\n",
              "    <tr>\n",
              "      <th>18</th>\n",
              "      <td>родительный падеж</td>\n",
              "      <td>0.9377</td>\n",
              "      <td>84942</td>\n",
              "    </tr>\n",
              "    <tr>\n",
              "      <th>19</th>\n",
              "      <td>дательный падеж</td>\n",
              "      <td>0.9237</td>\n",
              "      <td>14695</td>\n",
              "    </tr>\n",
              "    <tr>\n",
              "      <th>20</th>\n",
              "      <td>винительный падеж</td>\n",
              "      <td>0.8108</td>\n",
              "      <td>38505</td>\n",
              "    </tr>\n",
              "    <tr>\n",
              "      <th>21</th>\n",
              "      <td>творительный падеж</td>\n",
              "      <td>0.9270</td>\n",
              "      <td>17305</td>\n",
              "    </tr>\n",
              "    <tr>\n",
              "      <th>22</th>\n",
              "      <td>предложный падеж</td>\n",
              "      <td>0.8875</td>\n",
              "      <td>27791</td>\n",
              "    </tr>\n",
              "    <tr>\n",
              "      <th>23</th>\n",
              "      <td>звательный падеж</td>\n",
              "      <td>0.5000</td>\n",
              "      <td>12</td>\n",
              "    </tr>\n",
              "    <tr>\n",
              "      <th>24</th>\n",
              "      <td>частичный  падеж</td>\n",
              "      <td>0.0000</td>\n",
              "      <td>8</td>\n",
              "    </tr>\n",
              "    <tr>\n",
              "      <th>25</th>\n",
              "      <td>второй винительный падеж</td>\n",
              "      <td>0.0000</td>\n",
              "      <td>0</td>\n",
              "    </tr>\n",
              "    <tr>\n",
              "      <th>26</th>\n",
              "      <td>местный падеж</td>\n",
              "      <td>0.0000</td>\n",
              "      <td>17</td>\n",
              "    </tr>\n",
              "    <tr>\n",
              "      <th>27</th>\n",
              "      <td>единственное число</td>\n",
              "      <td>0.9819</td>\n",
              "      <td>212215</td>\n",
              "    </tr>\n",
              "    <tr>\n",
              "      <th>28</th>\n",
              "      <td>множественное число</td>\n",
              "      <td>0.9514</td>\n",
              "      <td>89540</td>\n",
              "    </tr>\n",
              "    <tr>\n",
              "      <th>29</th>\n",
              "      <td>мужской род</td>\n",
              "      <td>0.9612</td>\n",
              "      <td>110027</td>\n",
              "    </tr>\n",
              "    <tr>\n",
              "      <th>30</th>\n",
              "      <td>женский род</td>\n",
              "      <td>0.9711</td>\n",
              "      <td>75919</td>\n",
              "    </tr>\n",
              "    <tr>\n",
              "      <th>31</th>\n",
              "      <td>средний род</td>\n",
              "      <td>0.9585</td>\n",
              "      <td>56411</td>\n",
              "    </tr>\n",
              "    <tr>\n",
              "      <th>32</th>\n",
              "      <td>общий род</td>\n",
              "      <td>0.9082</td>\n",
              "      <td>959</td>\n",
              "    </tr>\n",
              "    <tr>\n",
              "      <th>33</th>\n",
              "      <td>одушевлённые</td>\n",
              "      <td>0.9259</td>\n",
              "      <td>38585</td>\n",
              "    </tr>\n",
              "    <tr>\n",
              "      <th>34</th>\n",
              "      <td>неодушевлённые</td>\n",
              "      <td>0.9720</td>\n",
              "      <td>142764</td>\n",
              "    </tr>\n",
              "    <tr>\n",
              "      <th>35</th>\n",
              "      <td>совершенный вид</td>\n",
              "      <td>0.9778</td>\n",
              "      <td>32685</td>\n",
              "    </tr>\n",
              "    <tr>\n",
              "      <th>36</th>\n",
              "      <td>несовершенный вид</td>\n",
              "      <td>0.9748</td>\n",
              "      <td>31174</td>\n",
              "    </tr>\n",
              "    <tr>\n",
              "      <th>37</th>\n",
              "      <td>переходный</td>\n",
              "      <td>0.9790</td>\n",
              "      <td>32353</td>\n",
              "    </tr>\n",
              "    <tr>\n",
              "      <th>38</th>\n",
              "      <td>непереходный</td>\n",
              "      <td>0.9795</td>\n",
              "      <td>26547</td>\n",
              "    </tr>\n",
              "    <tr>\n",
              "      <th>39</th>\n",
              "      <td>1 лицо</td>\n",
              "      <td>0.9756</td>\n",
              "      <td>2919</td>\n",
              "    </tr>\n",
              "    <tr>\n",
              "      <th>40</th>\n",
              "      <td>2 лицо</td>\n",
              "      <td>0.9298</td>\n",
              "      <td>298</td>\n",
              "    </tr>\n",
              "    <tr>\n",
              "      <th>41</th>\n",
              "      <td>3 лицо</td>\n",
              "      <td>0.9903</td>\n",
              "      <td>25715</td>\n",
              "    </tr>\n",
              "    <tr>\n",
              "      <th>42</th>\n",
              "      <td>настоящее время</td>\n",
              "      <td>0.9738</td>\n",
              "      <td>17797</td>\n",
              "    </tr>\n",
              "    <tr>\n",
              "      <th>43</th>\n",
              "      <td>прошедшее время</td>\n",
              "      <td>0.9848</td>\n",
              "      <td>31230</td>\n",
              "    </tr>\n",
              "    <tr>\n",
              "      <th>44</th>\n",
              "      <td>будущее время</td>\n",
              "      <td>0.9571</td>\n",
              "      <td>5192</td>\n",
              "    </tr>\n",
              "    <tr>\n",
              "      <th>45</th>\n",
              "      <td>изъявительное наклонение</td>\n",
              "      <td>0.9918</td>\n",
              "      <td>42176</td>\n",
              "    </tr>\n",
              "    <tr>\n",
              "      <th>46</th>\n",
              "      <td>повелительное наклонение</td>\n",
              "      <td>0.5636</td>\n",
              "      <td>291</td>\n",
              "    </tr>\n",
              "    <tr>\n",
              "      <th>47</th>\n",
              "      <td>действительный залог</td>\n",
              "      <td>0.9719</td>\n",
              "      <td>2663</td>\n",
              "    </tr>\n",
              "    <tr>\n",
              "      <th>48</th>\n",
              "      <td>страдательный залог</td>\n",
              "      <td>0.9715</td>\n",
              "      <td>7326</td>\n",
              "    </tr>\n",
              "    <tr>\n",
              "      <th>49</th>\n",
              "      <td>аббревиатура</td>\n",
              "      <td>0.6819</td>\n",
              "      <td>3994</td>\n",
              "    </tr>\n",
              "    <tr>\n",
              "      <th>50</th>\n",
              "      <td>имя</td>\n",
              "      <td>0.8523</td>\n",
              "      <td>6916</td>\n",
              "    </tr>\n",
              "    <tr>\n",
              "      <th>51</th>\n",
              "      <td>фамилия</td>\n",
              "      <td>0.8812</td>\n",
              "      <td>5568</td>\n",
              "    </tr>\n",
              "    <tr>\n",
              "      <th>52</th>\n",
              "      <td>отчество</td>\n",
              "      <td>0.7692</td>\n",
              "      <td>144</td>\n",
              "    </tr>\n",
              "    <tr>\n",
              "      <th>53</th>\n",
              "      <td>топоним</td>\n",
              "      <td>0.9441</td>\n",
              "      <td>10153</td>\n",
              "    </tr>\n",
              "    <tr>\n",
              "      <th>54</th>\n",
              "      <td>превосходная степень</td>\n",
              "      <td>0.9957</td>\n",
              "      <td>580</td>\n",
              "    </tr>\n",
              "    <tr>\n",
              "      <th>55</th>\n",
              "      <td>местоименное</td>\n",
              "      <td>0.9780</td>\n",
              "      <td>16849</td>\n",
              "    </tr>\n",
              "    <tr>\n",
              "      <th>56</th>\n",
              "      <td>сравнительная степень на по-</td>\n",
              "      <td>0.0000</td>\n",
              "      <td>18</td>\n",
              "    </tr>\n",
              "    <tr>\n",
              "      <th>57</th>\n",
              "      <td>инициал</td>\n",
              "      <td>0.8293</td>\n",
              "      <td>70</td>\n",
              "    </tr>\n",
              "  </tbody>\n",
              "</table>\n",
              "</div>"
            ],
            "text/plain": [
              "                        grammeme  f1_score  support\n",
              "0                существительное    0.9859   174422\n",
              "1          полное прилагательное    0.9799    58104\n",
              "2         краткое прилагательное    0.8632     2963\n",
              "3                     компаратив    0.8612      375\n",
              "4                         глагол    0.9905    42467\n",
              "5                      инфинитив    0.9962    10180\n",
              "6               полное причастие    0.9691     5030\n",
              "7              краткое причастие    0.9780     4959\n",
              "8                   деепричастие    0.9145     1223\n",
              "9                   числительное    0.9791     2463\n",
              "10                       наречие    0.9403    13485\n",
              "11                   местоимение    0.9775    13810\n",
              "12                    предикатив    0.9342      831\n",
              "13                       предлог    0.9782    52871\n",
              "14                          союз    0.9696    30432\n",
              "15                       частица    0.9503     9428\n",
              "16                    междометие    0.1022      643\n",
              "17            именительный падеж    0.9189    70554\n",
              "18             родительный падеж    0.9377    84942\n",
              "19               дательный падеж    0.9237    14695\n",
              "20             винительный падеж    0.8108    38505\n",
              "21            творительный падеж    0.9270    17305\n",
              "22              предложный падеж    0.8875    27791\n",
              "23              звательный падеж    0.5000       12\n",
              "24              частичный  падеж    0.0000        8\n",
              "25      второй винительный падеж    0.0000        0\n",
              "26                 местный падеж    0.0000       17\n",
              "27            единственное число    0.9819   212215\n",
              "28           множественное число    0.9514    89540\n",
              "29                   мужской род    0.9612   110027\n",
              "30                   женский род    0.9711    75919\n",
              "31                   средний род    0.9585    56411\n",
              "32                     общий род    0.9082      959\n",
              "33                  одушевлённые    0.9259    38585\n",
              "34                неодушевлённые    0.9720   142764\n",
              "35               совершенный вид    0.9778    32685\n",
              "36             несовершенный вид    0.9748    31174\n",
              "37                    переходный    0.9790    32353\n",
              "38                  непереходный    0.9795    26547\n",
              "39                        1 лицо    0.9756     2919\n",
              "40                        2 лицо    0.9298      298\n",
              "41                        3 лицо    0.9903    25715\n",
              "42               настоящее время    0.9738    17797\n",
              "43               прошедшее время    0.9848    31230\n",
              "44                 будущее время    0.9571     5192\n",
              "45      изъявительное наклонение    0.9918    42176\n",
              "46      повелительное наклонение    0.5636      291\n",
              "47          действительный залог    0.9719     2663\n",
              "48           страдательный залог    0.9715     7326\n",
              "49                  аббревиатура    0.6819     3994\n",
              "50                           имя    0.8523     6916\n",
              "51                       фамилия    0.8812     5568\n",
              "52                      отчество    0.7692      144\n",
              "53                       топоним    0.9441    10153\n",
              "54          превосходная степень    0.9957      580\n",
              "55                  местоименное    0.9780    16849\n",
              "56  сравнительная степень на по-    0.0000       18\n",
              "57                       инициал    0.8293       70"
            ]
          },
          "metadata": {
            "tags": []
          },
          "execution_count": 32
        }
      ]
    },
    {
      "cell_type": "markdown",
      "metadata": {
        "id": "etLcego51EaC",
        "colab_type": "text"
      },
      "source": [
        "###Точность на уровне тегов токенов"
      ]
    },
    {
      "cell_type": "markdown",
      "metadata": {
        "id": "zeI49Fzd9go1",
        "colab_type": "text"
      },
      "source": [
        "Доля токенов, которые тегированы на 100% верно."
      ]
    },
    {
      "cell_type": "code",
      "metadata": {
        "id": "-8wL6IMc0SEB",
        "colab_type": "code",
        "outputId": "7dfc8315-7808-4a64-eac5-7d34e463e3d3",
        "colab": {
          "base_uri": "https://localhost:8080/",
          "height": 34
        }
      },
      "source": [
        "round((test_labels == y_pred).all(axis=2).mean(), 4)"
      ],
      "execution_count": 0,
      "outputs": [
        {
          "output_type": "execute_result",
          "data": {
            "text/plain": [
              "0.948"
            ]
          },
          "metadata": {
            "tags": []
          },
          "execution_count": 28
        }
      ]
    },
    {
      "cell_type": "markdown",
      "metadata": {
        "id": "vl2FTQoR1Snl",
        "colab_type": "text"
      },
      "source": [
        "###Точность на уровне предложений"
      ]
    },
    {
      "cell_type": "markdown",
      "metadata": {
        "id": "ZZ-x_XHR7BWc",
        "colab_type": "text"
      },
      "source": [
        "Доля предложений, которые тегированы на 100% верно."
      ]
    },
    {
      "cell_type": "code",
      "metadata": {
        "id": "YloFLHQqyWz0",
        "colab_type": "code",
        "outputId": "4bdea8e5-a1b2-49fb-fd99-25aa320b669d",
        "colab": {
          "base_uri": "https://localhost:8080/",
          "height": 34
        }
      },
      "source": [
        "round((test_labels == y_pred).all(axis=2).all(axis=1).mean(), 4)"
      ],
      "execution_count": 0,
      "outputs": [
        {
          "output_type": "execute_result",
          "data": {
            "text/plain": [
              "0.3171"
            ]
          },
          "metadata": {
            "tags": []
          },
          "execution_count": 29
        }
      ]
    },
    {
      "cell_type": "markdown",
      "metadata": {
        "id": "3g_cCwOwxy_S",
        "colab_type": "text"
      },
      "source": [
        "###Failed examples"
      ]
    },
    {
      "cell_type": "code",
      "metadata": {
        "id": "5e4LlLw9x231",
        "colab_type": "code",
        "colab": {}
      },
      "source": [
        "failed_mask = ~(test_labels == y_pred).all(axis=2).all(axis=1) # получаем индексы ошибочных предсказаний\n",
        "failed_test_inputs = test_inputs[failed_mask] # получаем предложения размеченные с ошибкой\n",
        "failed_test_labels = test_labels[failed_mask] # получаем их истинные теги\n",
        "failed_y_pred = y_pred[failed_mask] # получаем их предсказанные теги"
      ],
      "execution_count": 0,
      "outputs": []
    },
    {
      "cell_type": "code",
      "metadata": {
        "id": "w3-C6Z7o1hRh",
        "colab_type": "code",
        "colab": {}
      },
      "source": [
        "indexes = {value: key for key, value in symbols.items()} # получаем словарь декодирования индексов"
      ],
      "execution_count": 0,
      "outputs": []
    },
    {
      "cell_type": "code",
      "metadata": {
        "id": "bsFcMdf2zkn4",
        "colab_type": "code",
        "outputId": "f352fc7f-19fe-4b3e-c866-0defdd7eae1b",
        "colab": {
          "base_uri": "https://localhost:8080/",
          "height": 1000
        }
      },
      "source": [
        "for i, sentence in enumerate(failed_test_inputs): # из всех предлодений тегированных с ошибкой\n",
        "  for j, token in enumerate(sentence): # из всех токенов\n",
        "    if sum(token): # если они не пусты\n",
        "      for k, char in enumerate(token): # печатаем токен\n",
        "        if char:\n",
        "          print(indexes[char], end='')\n",
        "      print(f' = [{\", \".join(grammemes.loc[failed_test_labels[i, j] == 1, \"description\"])}]')\n",
        "      # печатаем истинный тег токена\n",
        "      for k, char in enumerate(token): # печатаем токен\n",
        "        if char:\n",
        "          print(indexes[char], end='')\n",
        "      print(f' = [{\", \".join(grammemes.loc[failed_y_pred[i, j] == 1, \"description\"])}]')\n",
        "      # печатаем предсказанный тег токена\n",
        "  print()\n",
        "  if i > 2: # ограничиваем количество примеров\n",
        "    break"
      ],
      "execution_count": 0,
      "outputs": [
        {
          "output_type": "stream",
          "text": [
            "хаким = [существительное, именительный падеж, единственное число, мужской род, одушевлённые, имя]\n",
            "хаким = [существительное, единственное число, мужской род, одушевлённые, имя]\n",
            "однако = [союз]\n",
            "однако = [союз]\n",
            "не = [частица]\n",
            "не = [частица]\n",
            "уточнил = [глагол, единственное число, мужской род, совершенный вид, переходный, прошедшее время, изъявительное наклонение]\n",
            "уточнил = [глагол, единственное число, мужской род, совершенный вид, переходный, прошедшее время, изъявительное наклонение]\n",
            "каким = [полное прилагательное, творительный падеж, единственное число, мужской род, местоименное]\n",
            "каким = [полное прилагательное, творительный падеж, единственное число, мужской род, местоименное]\n",
            "путем = [существительное, творительный падеж, единственное число, мужской род, неодушевлённые]\n",
            "путем = [существительное, творительный падеж, единственное число, мужской род, неодушевлённые]\n",
            "к = [предлог]\n",
            "к = [предлог]\n",
            "нему = [местоимение, дательный падеж, единственное число, средний род, 3 лицо]\n",
            "нему = [местоимение, дательный падеж, единственное число, средний род, 3 лицо]\n",
            "попали = [глагол, множественное число, совершенный вид, непереходный, прошедшее время, изъявительное наклонение]\n",
            "попали = [глагол, множественное число, совершенный вид, непереходный, прошедшее время, изъявительное наклонение]\n",
            "эти = [полное прилагательное, именительный падеж, множественное число, местоименное]\n",
            "эти = [полное прилагательное, именительный падеж, множественное число, местоименное]\n",
            "сведения = [существительное, именительный падеж, множественное число, средний род, неодушевлённые]\n",
            "сведения = [существительное, винительный падеж, множественное число, средний род, неодушевлённые]\n",
            "\n",
            "затем = [наречие]\n",
            "затем = [наречие]\n",
            "в = [предлог]\n",
            "в = [предлог]\n",
            "ходе = [существительное, предложный падеж, единственное число, мужской род, неодушевлённые]\n",
            "ходе = [существительное, предложный падеж, единственное число, мужской род, неодушевлённые]\n",
            "преследования = [существительное, родительный падеж, единственное число, средний род, неодушевлённые]\n",
            "преследования = [существительное, родительный падеж, единственное число, средний род, неодушевлённые]\n",
            "сухоруков = [существительное, именительный падеж, единственное число, мужской род, одушевлённые, фамилия]\n",
            "сухоруков = [существительное, множественное число, мужской род, одушевлённые]\n",
            "сам = [полное прилагательное, именительный падеж, единственное число, мужской род, местоименное]\n",
            "сам = [полное прилагательное, именительный падеж, единственное число, мужской род, местоименное]\n",
            "покончил = [глагол, единственное число, мужской род, совершенный вид, переходный, прошедшее время, изъявительное наклонение]\n",
            "покончил = [глагол, единственное число, мужской род, совершенный вид, переходный, прошедшее время, изъявительное наклонение]\n",
            "с = [предлог]\n",
            "с = [предлог]\n",
            "собой = [местоимение, творительный падеж, единственное число]\n",
            "собой = [местоимение, творительный падеж, единственное число]\n",
            "\n",
            "должны = [краткое прилагательное, множественное число]\n",
            "должны = [краткое прилагательное, множественное число]\n",
            "способствовать = [инфинитив, несовершенный вид, непереходный]\n",
            "способствовать = [инфинитив, несовершенный вид, непереходный]\n",
            "этому = [местоимение, дательный падеж, единственное число, средний род]\n",
            "этому = [местоимение, дательный падеж, единственное число, средний род]\n",
            "и = [союз]\n",
            "и = [союз]\n",
            "смягченные = [полное прилагательное, именительный падеж, множественное число]\n",
            "смягченные = [полное причастие, винительный падеж, множественное число, неодушевлённые, совершенный вид, переходный, прошедшее время, страдательный залог]\n",
            "требования = [существительное, родительный падеж, единственное число, средний род, неодушевлённые]\n",
            "требования = [существительное, родительный падеж, единственное число, средний род, неодушевлённые]\n",
            "к = [предлог]\n",
            "к = [предлог]\n",
            "автодилерам = [существительное, дательный падеж, множественное число, мужской род, одушевлённые]\n",
            "автодилерам = [существительное, дательный падеж, множественное число, мужской род, неодушевлённые]\n",
            "\n",
            "на = [предлог]\n",
            "на = [предлог]\n",
            "животных = [существительное, родительный падеж, множественное число, средний род, одушевлённые]\n",
            "животных = [существительное, родительный падеж, множественное число, средний род, одушевлённые]\n",
            "появившихся = [полное причастие, родительный падеж, множественное число, совершенный вид, непереходный, прошедшее время, действительный залог]\n",
            "появившихся = [полное причастие, родительный падеж, множественное число, совершенный вид, непереходный, прошедшее время, действительный залог]\n",
            "в = [предлог]\n",
            "в = [предлог]\n",
            "окрестностях = [существительное, предложный падеж, множественное число, неодушевлённые]\n",
            "окрестностях = [существительное, предложный падеж, множественное число, неодушевлённые]\n",
            "констанцы = [существительное, родительный падеж, единственное число, женский род, неодушевлённые, топоним]\n",
            "констанцы = [существительное, именительный падеж, множественное число, мужской род, общий род, одушевлённые]\n",
            "и = [союз]\n",
            "и = [союз]\n",
            "курорта = [существительное, родительный падеж, единственное число, мужской род, неодушевлённые]\n",
            "курорта = [существительное, родительный падеж, единственное число, мужской род, неодушевлённые]\n",
            "мамайя = [существительное, именительный падеж, единственное число, женский род, одушевлённые, имя]\n",
            "мамайя = [полное прилагательное, именительный падеж, единственное число, женский род, одушевлённые]\n",
            "сейчас = [наречие]\n",
            "сейчас = [наречие]\n",
            "устроена = [краткое причастие, единственное число, женский род, совершенный вид, прошедшее время, страдательный залог]\n",
            "устроена = [краткое причастие, единственное число, женский род, совершенный вид, прошедшее время, страдательный залог]\n",
            "настоящая = [полное прилагательное, именительный падеж, единственное число, женский род]\n",
            "настоящая = [полное прилагательное, именительный падеж, единственное число, женский род]\n",
            "облава = [существительное, именительный падеж, единственное число, женский род, неодушевлённые]\n",
            "облава = [существительное, именительный падеж, единственное число, женский род, одушевлённые]\n",
            "поскольку = [союз]\n",
            "поскольку = [союз]\n",
            "их = [полное прилагательное, именительный падеж, единственное число, женский род, местоименное]\n",
            "их = [полное прилагательное, именительный падеж, единственное число, женский род, местоименное]\n",
            "поведение = [существительное, именительный падеж, единственное число, средний род, неодушевлённые]\n",
            "поведение = [существительное, именительный падеж, единственное число, средний род, неодушевлённые]\n",
            "по = [предлог]\n",
            "по = [предлог]\n",
            "оценкам = [существительное, дательный падеж, множественное число, женский род, неодушевлённые]\n",
            "оценкам = [существительное, дательный падеж, множественное число, женский род, неодушевлённые]\n",
            "охотоведов = [существительное, родительный падеж, множественное число, мужской род, одушевлённые]\n",
            "охотоведов = [существительное, родительный падеж, множественное число, мужской род, одушевлённые]\n",
            "неадекватно = [наречие]\n",
            "неадекватно = [наречие]\n",
            "\n"
          ],
          "name": "stdout"
        }
      ]
    },
    {
      "cell_type": "markdown",
      "metadata": {
        "id": "VWQIph2h4M8D",
        "colab_type": "text"
      },
      "source": [
        "##Extra testing"
      ]
    },
    {
      "cell_type": "code",
      "metadata": {
        "id": "q3EJwAd5Hw-s",
        "colab_type": "code",
        "colab": {}
      },
      "source": [
        "extra_y = extra_y.round() # загружаем сложные примеры"
      ],
      "execution_count": 0,
      "outputs": []
    },
    {
      "cell_type": "code",
      "metadata": {
        "id": "P_7WuJ2nIBtk",
        "colab_type": "code",
        "outputId": "8cde7638-df2f-46fe-8e74-36c615d18f47",
        "colab": {
          "base_uri": "https://localhost:8080/",
          "height": 459
        }
      },
      "source": [
        "for i, sentence in enumerate(extra_data.words): # печатаем токены и теги\n",
        "  for j, token in enumerate(sentence):\n",
        "    print(f'{token} = [{\", \".join(grammemes.loc[extra_y[i, j+1] == 1, \"description\"])}]')\n",
        "  print()"
      ],
      "execution_count": 0,
      "outputs": [
        {
          "output_type": "stream",
          "text": [
            "крылышкуя = []\n",
            "золотописьмом = [существительное, полное прилагательное, творительный падеж, единственное число, средний род, неодушевлённые]\n",
            "тончайших = [полное прилагательное, множественное число, превосходная степень]\n",
            "жил = [существительное, глагол, родительный падеж, множественное число, мужской род, женский род, неодушевлённые, несовершенный вид, непереходный, изъявительное наклонение]\n",
            "кузнечик = [существительное, единственное число, мужской род, неодушевлённые]\n",
            "в = [предлог]\n",
            "кузов = [существительное, единственное число, мужской род, неодушевлённые]\n",
            "пуза = [существительное, родительный падеж, единственное число, мужской род, неодушевлённые]\n",
            "уложил = [глагол, единственное число, мужской род, совершенный вид, переходный, прошедшее время, изъявительное наклонение]\n",
            "прибрежных = [полное прилагательное, родительный падеж, множественное число]\n",
            "много = [наречие]\n",
            "трав = [существительное, родительный падеж, множественное число, женский род, неодушевлённые]\n",
            "и = [союз]\n",
            "вер = [существительное, родительный падеж, множественное число, женский род, неодушевлённые]\n",
            "\n",
            "сорок = [существительное, именительный падеж, множественное число, неодушевлённые]\n",
            "сорок = [существительное, родительный падеж, множественное число, женский род, неодушевлённые]\n",
            "глядели = [глагол, множественное число, совершенный вид, непереходный, прошедшее время, изъявительное наклонение]\n",
            "на = [предлог]\n",
            "гладь = [существительное, винительный падеж, единственное число, женский род, неодушевлённые]\n",
            "\n",
            "косой = [существительное, творительный падеж, единственное число, женский род, неодушевлённые]\n",
            "косой = [существительное, единственное число, женский род, неодушевлённые]\n",
            "косил = [существительное, мужской род, одушевлённые, переходный, прошедшее время, имя]\n",
            "косой = [существительное, единственное число, женский род, неодушевлённые]\n",
            "\n"
          ],
          "name": "stdout"
        }
      ]
    },
    {
      "cell_type": "markdown",
      "metadata": {
        "id": "aCwDrilChcKk",
        "colab_type": "text"
      },
      "source": [
        "#Restoring"
      ]
    },
    {
      "cell_type": "code",
      "metadata": {
        "id": "Bh8rC5XKZfVV",
        "colab_type": "code",
        "outputId": "06625843-fef7-4f3d-b4f5-f827be554837",
        "colab": {
          "base_uri": "https://localhost:8080/",
          "height": 34
        }
      },
      "source": [
        "with tf.Session() as sess:\n",
        "  saver.restore(sess, 'checkpoints/model.ckpt')"
      ],
      "execution_count": 0,
      "outputs": [
        {
          "output_type": "stream",
          "text": [
            "INFO:tensorflow:Restoring parameters from checkpoints/model.ckpt\n"
          ],
          "name": "stdout"
        }
      ]
    },
    {
      "cell_type": "markdown",
      "metadata": {
        "id": "nb6DXnMijHVZ",
        "colab_type": "text"
      },
      "source": [
        "#END"
      ]
    }
  ]
}