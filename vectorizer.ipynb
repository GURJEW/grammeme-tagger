{
  "nbformat": 4,
  "nbformat_minor": 0,
  "metadata": {
    "colab": {
      "name": "vectorizer.ipynb",
      "provenance": [],
      "collapsed_sections": [],
      "toc_visible": true
    },
    "kernelspec": {
      "name": "python3",
      "display_name": "Python 3"
    }
  },
  "cells": [
    {
      "cell_type": "markdown",
      "metadata": {
        "id": "52GC-uGagM0E",
        "colab_type": "text"
      },
      "source": [
        "#Векторизация входных и выходных данных\n",
        "@Василий Гурьев"
      ]
    },
    {
      "cell_type": "markdown",
      "metadata": {
        "id": "-Pkjr5VWbjnK",
        "colab_type": "text"
      },
      "source": [
        "#Imports"
      ]
    },
    {
      "cell_type": "code",
      "metadata": {
        "id": "el5SRjCbbJSX",
        "colab_type": "code",
        "colab": {}
      },
      "source": [
        "import numpy as np\n",
        "import pandas as pd\n",
        "from google.colab import drive\n",
        "import os"
      ],
      "execution_count": 0,
      "outputs": []
    },
    {
      "cell_type": "markdown",
      "metadata": {
        "id": "1JINDB4h7B0G",
        "colab_type": "text"
      },
      "source": [
        "#Defs"
      ]
    },
    {
      "cell_type": "markdown",
      "metadata": {
        "id": "RQnM1EdinU-o",
        "colab_type": "text"
      },
      "source": [
        "##select_length"
      ]
    },
    {
      "cell_type": "code",
      "metadata": {
        "id": "aZQnbBUf7GRJ",
        "colab_type": "code",
        "colab": {}
      },
      "source": [
        "def select_length(data, minlen, maxlen): # ограничение длинны предложений\n",
        "  return data.loc[(data.length >= minlen) & (data.length <= maxlen)]"
      ],
      "execution_count": 0,
      "outputs": []
    },
    {
      "cell_type": "markdown",
      "metadata": {
        "id": "CqB9bY2bb9Xw",
        "colab_type": "text"
      },
      "source": [
        "#Loading"
      ]
    },
    {
      "cell_type": "code",
      "metadata": {
        "id": "J9iRHNNcb_pp",
        "colab_type": "code",
        "outputId": "68b58488-ede1-46e8-ec08-c31d52e84a87",
        "colab": {
          "base_uri": "https://localhost:8080/",
          "height": 122
        }
      },
      "source": [
        "drive.mount('/content/gdrive') # подключаем диск\n",
        "os.chdir('/content/gdrive/My Drive/Colab Notebooks/NNDW') # задаём рабочую директорию"
      ],
      "execution_count": 0,
      "outputs": [
        {
          "output_type": "stream",
          "text": [
            "Go to this URL in a browser: https://accounts.google.com/o/oauth2/auth?client_id=947318989803-6bn6qk8qdgf4n4g3pfee6491hc0brc4i.apps.googleusercontent.com&redirect_uri=urn%3aietf%3awg%3aoauth%3a2.0%3aoob&response_type=code&scope=email%20https%3a%2f%2fwww.googleapis.com%2fauth%2fdocs.test%20https%3a%2f%2fwww.googleapis.com%2fauth%2fdrive%20https%3a%2f%2fwww.googleapis.com%2fauth%2fdrive.photos.readonly%20https%3a%2f%2fwww.googleapis.com%2fauth%2fpeopleapi.readonly\n",
            "\n",
            "Enter your authorization code:\n",
            "··········\n",
            "Mounted at /content/gdrive\n"
          ],
          "name": "stdout"
        }
      ]
    },
    {
      "cell_type": "code",
      "metadata": {
        "id": "gzujyiCldUrw",
        "colab_type": "code",
        "outputId": "94ccd9a9-bb43-4100-b2a4-26b12bb0c262",
        "colab": {
          "base_uri": "https://localhost:8080/",
          "height": 204
        }
      },
      "source": [
        "data = pd.read_csv('data/sentences_2002.csv', usecols=['words']) # загрузка коллекции\n",
        "data.words = data.words.apply(lambda words: eval(words.lower()))\n",
        "# переводим строки в списки слов, приводя их к нижнему регистру\n",
        "data['length'] = data.words.apply(len) # определяем длину предложений\n",
        "data.head()"
      ],
      "execution_count": 0,
      "outputs": [
        {
          "output_type": "execute_result",
          "data": {
            "text/html": [
              "<div>\n",
              "<style scoped>\n",
              "    .dataframe tbody tr th:only-of-type {\n",
              "        vertical-align: middle;\n",
              "    }\n",
              "\n",
              "    .dataframe tbody tr th {\n",
              "        vertical-align: top;\n",
              "    }\n",
              "\n",
              "    .dataframe thead th {\n",
              "        text-align: right;\n",
              "    }\n",
              "</style>\n",
              "<table border=\"1\" class=\"dataframe\">\n",
              "  <thead>\n",
              "    <tr style=\"text-align: right;\">\n",
              "      <th></th>\n",
              "      <th>words</th>\n",
              "      <th>length</th>\n",
              "    </tr>\n",
              "  </thead>\n",
              "  <tbody>\n",
              "    <tr>\n",
              "      <th>0</th>\n",
              "      <td>[как, сообщает, нтв, заокеанские, медики, реко...</td>\n",
              "      <td>17</td>\n",
              "    </tr>\n",
              "    <tr>\n",
              "      <th>1</th>\n",
              "      <td>[по, их, словам, полезные, вещества, в, нем, п...</td>\n",
              "      <td>12</td>\n",
              "    </tr>\n",
              "    <tr>\n",
              "      <th>2</th>\n",
              "      <td>[поход, в, сауну, как, средство, борьбы, с, по...</td>\n",
              "      <td>12</td>\n",
              "    </tr>\n",
              "    <tr>\n",
              "      <th>3</th>\n",
              "      <td>[там, его, иногда, называют, русским]</td>\n",
              "      <td>5</td>\n",
              "    </tr>\n",
              "    <tr>\n",
              "      <th>4</th>\n",
              "      <td>[запейте, их, двумя, большими, стаканами, воды]</td>\n",
              "      <td>6</td>\n",
              "    </tr>\n",
              "  </tbody>\n",
              "</table>\n",
              "</div>"
            ],
            "text/plain": [
              "                                               words  length\n",
              "0  [как, сообщает, нтв, заокеанские, медики, реко...      17\n",
              "1  [по, их, словам, полезные, вещества, в, нем, п...      12\n",
              "2  [поход, в, сауну, как, средство, борьбы, с, по...      12\n",
              "3              [там, его, иногда, называют, русским]       5\n",
              "4    [запейте, их, двумя, большими, стаканами, воды]       6"
            ]
          },
          "metadata": {
            "tags": []
          },
          "execution_count": 5
        }
      ]
    },
    {
      "cell_type": "code",
      "metadata": {
        "id": "a1tT6iNM971d",
        "colab_type": "code",
        "outputId": "663c1add-8200-44ed-f730-8310c1ca5d29",
        "colab": {
          "base_uri": "https://localhost:8080/",
          "height": 34
        }
      },
      "source": [
        "data.shape"
      ],
      "execution_count": 0,
      "outputs": [
        {
          "output_type": "execute_result",
          "data": {
            "text/plain": [
              "(155732, 2)"
            ]
          },
          "metadata": {
            "tags": []
          },
          "execution_count": 6
        }
      ]
    },
    {
      "cell_type": "code",
      "metadata": {
        "id": "2JIkL1_B5wFp",
        "colab_type": "code",
        "outputId": "ccec58ae-70a0-439a-f7c0-bee58ebe3750",
        "colab": {
          "base_uri": "https://localhost:8080/",
          "height": 204
        }
      },
      "source": [
        "tags = pd.read_csv('data/tags_2002.csv', usecols=['tags']) # загружаем теги\n",
        "tags.head()"
      ],
      "execution_count": 0,
      "outputs": [
        {
          "output_type": "execute_result",
          "data": {
            "text/html": [
              "<div>\n",
              "<style scoped>\n",
              "    .dataframe tbody tr th:only-of-type {\n",
              "        vertical-align: middle;\n",
              "    }\n",
              "\n",
              "    .dataframe tbody tr th {\n",
              "        vertical-align: top;\n",
              "    }\n",
              "\n",
              "    .dataframe thead th {\n",
              "        text-align: right;\n",
              "    }\n",
              "</style>\n",
              "<table border=\"1\" class=\"dataframe\">\n",
              "  <thead>\n",
              "    <tr style=\"text-align: right;\">\n",
              "      <th></th>\n",
              "      <th>tags</th>\n",
              "    </tr>\n",
              "  </thead>\n",
              "  <tbody>\n",
              "    <tr>\n",
              "      <th>0</th>\n",
              "      <td>[['CONJ'], ['3per', 'VERB', 'impf', 'indc', 'p...</td>\n",
              "    </tr>\n",
              "    <tr>\n",
              "      <th>1</th>\n",
              "      <td>[['PREP'], ['ADJF', 'Apro', 'accs', 'neut', 's...</td>\n",
              "    </tr>\n",
              "    <tr>\n",
              "      <th>2</th>\n",
              "      <td>[['NOUN', 'inan', 'masc', 'nomn', 'sing'], ['P...</td>\n",
              "    </tr>\n",
              "    <tr>\n",
              "      <th>3</th>\n",
              "      <td>[['ADVB'], ['3per', 'NPRO', 'accs', 'masc', 's...</td>\n",
              "    </tr>\n",
              "    <tr>\n",
              "      <th>4</th>\n",
              "      <td>[['VERB', 'impr', 'intr', 'perf', 'plur'], ['3...</td>\n",
              "    </tr>\n",
              "  </tbody>\n",
              "</table>\n",
              "</div>"
            ],
            "text/plain": [
              "                                                tags\n",
              "0  [['CONJ'], ['3per', 'VERB', 'impf', 'indc', 'p...\n",
              "1  [['PREP'], ['ADJF', 'Apro', 'accs', 'neut', 's...\n",
              "2  [['NOUN', 'inan', 'masc', 'nomn', 'sing'], ['P...\n",
              "3  [['ADVB'], ['3per', 'NPRO', 'accs', 'masc', 's...\n",
              "4  [['VERB', 'impr', 'intr', 'perf', 'plur'], ['3..."
            ]
          },
          "metadata": {
            "tags": []
          },
          "execution_count": 7
        }
      ]
    },
    {
      "cell_type": "code",
      "metadata": {
        "id": "K21QlXOvzyaK",
        "colab_type": "code",
        "colab": {}
      },
      "source": [
        "data = pd.concat([data, tags], axis=1).dropna() # сопоставляем токены и теги"
      ],
      "execution_count": 0,
      "outputs": []
    },
    {
      "cell_type": "code",
      "metadata": {
        "id": "EY_z04YtjDfY",
        "colab_type": "code",
        "colab": {}
      },
      "source": [
        "data.tags = data.tags.apply(lambda tags: eval(tags)) # переводим строки в списки"
      ],
      "execution_count": 0,
      "outputs": []
    },
    {
      "cell_type": "code",
      "metadata": {
        "id": "ih8pHHvpAC34",
        "colab_type": "code",
        "outputId": "a05cfe69-c8e4-45ea-b48d-d01eec9d6352",
        "colab": {
          "base_uri": "https://localhost:8080/",
          "height": 204
        }
      },
      "source": [
        "grammemes = pd.read_csv('dicts/grammemes.csv') # загружаем граммемы\n",
        "grammemes.head()"
      ],
      "execution_count": 0,
      "outputs": [
        {
          "output_type": "execute_result",
          "data": {
            "text/html": [
              "<div>\n",
              "<style scoped>\n",
              "    .dataframe tbody tr th:only-of-type {\n",
              "        vertical-align: middle;\n",
              "    }\n",
              "\n",
              "    .dataframe tbody tr th {\n",
              "        vertical-align: top;\n",
              "    }\n",
              "\n",
              "    .dataframe thead th {\n",
              "        text-align: right;\n",
              "    }\n",
              "</style>\n",
              "<table border=\"1\" class=\"dataframe\">\n",
              "  <thead>\n",
              "    <tr style=\"text-align: right;\">\n",
              "      <th></th>\n",
              "      <th>grammeme</th>\n",
              "      <th>description</th>\n",
              "    </tr>\n",
              "  </thead>\n",
              "  <tbody>\n",
              "    <tr>\n",
              "      <th>0</th>\n",
              "      <td>NOUN</td>\n",
              "      <td>существительное</td>\n",
              "    </tr>\n",
              "    <tr>\n",
              "      <th>1</th>\n",
              "      <td>ADJF</td>\n",
              "      <td>полное прилагательное</td>\n",
              "    </tr>\n",
              "    <tr>\n",
              "      <th>2</th>\n",
              "      <td>ADJS</td>\n",
              "      <td>краткое прилагательное</td>\n",
              "    </tr>\n",
              "    <tr>\n",
              "      <th>3</th>\n",
              "      <td>COMP</td>\n",
              "      <td>компаратив</td>\n",
              "    </tr>\n",
              "    <tr>\n",
              "      <th>4</th>\n",
              "      <td>VERB</td>\n",
              "      <td>глагол</td>\n",
              "    </tr>\n",
              "  </tbody>\n",
              "</table>\n",
              "</div>"
            ],
            "text/plain": [
              "  grammeme             description\n",
              "0     NOUN         существительное\n",
              "1     ADJF   полное прилагательное\n",
              "2     ADJS  краткое прилагательное\n",
              "3     COMP              компаратив\n",
              "4     VERB                  глагол"
            ]
          },
          "metadata": {
            "tags": []
          },
          "execution_count": 10
        }
      ]
    },
    {
      "cell_type": "markdown",
      "metadata": {
        "id": "2qgUoqVbT-Gu",
        "colab_type": "text"
      },
      "source": [
        "#Vectorization"
      ]
    },
    {
      "cell_type": "code",
      "metadata": {
        "id": "td-bsSOmSgbj",
        "colab_type": "code",
        "colab": {}
      },
      "source": [
        "minlen = 3 # минимальная длина предложения\n",
        "maxlen = 30 # максимальная длина предложения"
      ],
      "execution_count": 0,
      "outputs": []
    },
    {
      "cell_type": "code",
      "metadata": {
        "id": "s4K_bpytQ_oQ",
        "colab_type": "code",
        "colab": {}
      },
      "source": [
        "data30 = select_length(data, minlen, maxlen).sample(frac=1).reset_index(drop=True)\n",
        "# выбираем предложения заданной длины, перемешиваем и сбрасываем индексы"
      ],
      "execution_count": 0,
      "outputs": []
    },
    {
      "cell_type": "code",
      "metadata": {
        "id": "EVBexwu6XQ35",
        "colab_type": "code",
        "colab": {}
      },
      "source": [
        "data30['maxlen'] = data.words.apply(lambda words: max([len(word) for word in words]))\n",
        "# получаем максимальную длину слов в предложениях"
      ],
      "execution_count": 0,
      "outputs": []
    },
    {
      "cell_type": "code",
      "metadata": {
        "id": "HIJ_ojZJanr6",
        "colab_type": "code",
        "outputId": "88a965af-d9c7-439f-98c8-a26ba361286c",
        "colab": {
          "base_uri": "https://localhost:8080/",
          "height": 35
        }
      },
      "source": [
        "symbols = {chr(ord('а')+i): i + 1 for i in range(32)} # словарь символов\n",
        "symbols['ё'] = 33\n",
        "len(symbols)"
      ],
      "execution_count": 1,
      "outputs": [
        {
          "output_type": "execute_result",
          "data": {
            "text/plain": [
              "33"
            ]
          },
          "metadata": {
            "tags": []
          },
          "execution_count": 1
        }
      ]
    },
    {
      "cell_type": "code",
      "metadata": {
        "id": "cB3U98HEtBU0",
        "colab_type": "code",
        "colab": {}
      },
      "source": [
        "x = np.zeros((len(data30), maxlen + 2, int(data30.maxlen.max() + 2)))\n",
        "# задаём входной массив нужного размера с учётом начальных и конечных знаков токенов и предложений\n",
        "for i, sentence in enumerate(data30.words): # в каждом прежложения\n",
        "  for j, token in enumerate(sentence): # в каждом токене\n",
        "    for k, char in enumerate(token): # для каждой буквы\n",
        "      x[i, j+1, k+1] = symbols[char] # задаём индекс"
      ],
      "execution_count": 0,
      "outputs": []
    },
    {
      "cell_type": "code",
      "metadata": {
        "id": "dsict_07vosA",
        "colab_type": "code",
        "colab": {}
      },
      "source": [
        "y = np.zeros((len(data30), maxlen + 2, len(grammemes)))\n",
        "# задаём выходной массив нужного размера с учётом начальных и конечных знаков предложений\n",
        "for i, tags in enumerate(data30.tags): # для каждого предложения\n",
        "  for j, tag in enumerate(tags): # для каждого тега\n",
        "    for k, grammeme in enumerate(grammemes.grammeme): # перебираем все граммаемы\n",
        "      if grammeme in tag: # и если они есть в теге\n",
        "        y[i, j+1, k] = 1 # кодируем единицей"
      ],
      "execution_count": 0,
      "outputs": []
    },
    {
      "cell_type": "code",
      "metadata": {
        "id": "5pxt_GucBC2M",
        "colab_type": "code",
        "colab": {}
      },
      "source": [
        "# true_tags = np.unique(y.reshape((-1, y.shape[-1])), axis=0) # уникальные теги"
      ],
      "execution_count": 0,
      "outputs": []
    },
    {
      "cell_type": "markdown",
      "metadata": {
        "id": "rahQjsd8WLsV",
        "colab_type": "text"
      },
      "source": [
        "#Saving"
      ]
    },
    {
      "cell_type": "code",
      "metadata": {
        "id": "mdMB54ed2mJq",
        "colab_type": "code",
        "colab": {}
      },
      "source": [
        "np.savez_compressed('data/dataset_2002', x, y) # сохраняем векторизованный датасет"
      ],
      "execution_count": 0,
      "outputs": []
    },
    {
      "cell_type": "code",
      "metadata": {
        "id": "2GANEkf7dLb1",
        "colab_type": "code",
        "colab": {}
      },
      "source": [
        "data30.to_csv('data/data_2002.csv', index=False) # и сырые данные"
      ],
      "execution_count": 0,
      "outputs": []
    },
    {
      "cell_type": "markdown",
      "metadata": {
        "id": "_KgWbpD8bnmf",
        "colab_type": "text"
      },
      "source": [
        "#END"
      ]
    }
  ]
}